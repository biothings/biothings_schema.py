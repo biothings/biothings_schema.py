{
 "cells": [
  {
   "cell_type": "markdown",
   "metadata": {},
   "source": [
    "# How to Load Schema using biothings_schema python package"
   ]
  },
  {
   "cell_type": "markdown",
   "metadata": {},
   "source": [
    "Currently, biothings_schema pyton package can handle **3 types of input**:\n",
    "\n",
    "1. A JSON document represented as a **python dict**\n",
    "\n",
    "2. A **URL** to the JSON/YAML document\n",
    "\n",
    "3. A **file path** to the JSON/YAML document\n"
   ]
  },
  {
   "cell_type": "markdown",
   "metadata": {},
   "source": [
    "## Method 1:  A Python dictionary as input"
   ]
  },
  {
   "cell_type": "code",
   "execution_count": 1,
   "metadata": {},
   "outputs": [],
   "source": [
    "# import biothings_schema package\n",
    "from biothings_schema import Schema"
   ]
  },
  {
   "cell_type": "code",
   "execution_count": 2,
   "metadata": {},
   "outputs": [],
   "source": [
    "schema = {\n",
    "    \"@context\": {\n",
    "        \"bts\": \"http://schema.biothings.io/\",\n",
    "        \"rdf\": \"http://www.w3.org/1999/02/22-rdf-syntax-ns#\",\n",
    "        \"rdfs\": \"http://www.w3.org/2000/01/rdf-schema#\",\n",
    "        \"schema\": \"http://schema.org/\",\n",
    "        \"xsd\": \"http://www.w3.org/2001/XMLSchema#\"\n",
    "    },\n",
    "    \"@graph\": [\n",
    "        {\n",
    "            \"@id\": \"bts:BiologicalEntity\",\n",
    "            \"@type\": \"rdfs:Class\",\n",
    "            \"rdfs:comment\": \"biological entity\",\n",
    "            \"rdfs:label\": \"BiologicalEntity\",\n",
    "            \"rdfs:subClassOf\": {\n",
    "                \"@id\": \"schema:Thing\"\n",
    "            },\n",
    "            \"schema:isPartOf\": {\n",
    "                \"@id\": \"http://schema.biothings.io\"\n",
    "            }\n",
    "        },\n",
    "        {\n",
    "            \"@id\": \"bts:affectsAbundanceOf\",\n",
    "            \"@type\": \"rdf:Property\",\n",
    "            \"rdfs:comment\": \"holds between two molecular entities where the action or effect of one changes the amount of the other within a system of interest\",\n",
    "            \"rdfs:label\": \"affectsAbundanceOf\",\n",
    "            \"schema:domainIncludes\": {\n",
    "                \"@id\": \"bts:BiologicalEntity\"\n",
    "            },\n",
    "            \"schema:isPartOf\": {\n",
    "                \"@id\": \"http://schema.biothings.io\"\n",
    "            },\n",
    "            \"schema:rangeIncludes\": {\n",
    "                \"@id\": \"bts:BiologicalEntity\"\n",
    "            }\n",
    "        }\n",
    "    ],\n",
    "    \"@id\": \"http://schema.biothings.io/#0.1\"\n",
    "}"
   ]
  },
  {
   "cell_type": "code",
   "execution_count": 3,
   "metadata": {},
   "outputs": [],
   "source": [
    "# load schema into Schema Class for further analysis/editing\n",
    "se = Schema(schema=schema)"
   ]
  },
  {
   "cell_type": "markdown",
   "metadata": {},
   "source": [
    "## Method 2: A URL"
   ]
  },
  {
   "cell_type": "code",
   "execution_count": 4,
   "metadata": {},
   "outputs": [],
   "source": [
    "schema_url = 'https://raw.githubusercontent.com/data2health/schemas/biothings/biothings/biothings_curie_kevin.jsonld'"
   ]
  },
  {
   "cell_type": "code",
   "execution_count": 5,
   "metadata": {},
   "outputs": [],
   "source": [
    "se = Schema(schema=schema_url)"
   ]
  },
  {
   "cell_type": "markdown",
   "metadata": {},
   "source": [
    "## Method 3: A local file path"
   ]
  },
  {
   "cell_type": "code",
   "execution_count": null,
   "metadata": {},
   "outputs": [],
   "source": [
    "# replace it with your own load path first\n",
    "schema_path = '../data/schema.jsonld'\n",
    "se = Schema(schema=schema_path)"
   ]
  }
 ],
 "metadata": {
  "kernelspec": {
   "display_name": "Python 3",
   "language": "python",
   "name": "python3"
  },
  "language_info": {
   "codemirror_mode": {
    "name": "ipython",
    "version": 3
   },
   "file_extension": ".py",
   "mimetype": "text/x-python",
   "name": "python",
   "nbconvert_exporter": "python",
   "pygments_lexer": "ipython3",
   "version": "3.7.3"
  }
 },
 "nbformat": 4,
 "nbformat_minor": 2
}
