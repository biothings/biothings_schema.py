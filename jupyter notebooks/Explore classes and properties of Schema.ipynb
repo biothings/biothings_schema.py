{
 "cells": [
  {
   "cell_type": "markdown",
   "metadata": {},
   "source": [
    "# How to use biothings_schema package to explorer classes and properties"
   ]
  },
  {
   "cell_type": "code",
   "execution_count": 1,
   "metadata": {},
   "outputs": [],
   "source": [
    "# load python package\n",
    "from biothings_schema import Schema"
   ]
  },
  {
   "cell_type": "code",
   "execution_count": 2,
   "metadata": {},
   "outputs": [],
   "source": [
    "# load schema\n",
    "se = Schema(\"https://raw.githubusercontent.com/data2health/schemas/biothings/biothings/biothings_curie_kevin.jsonld\")"
   ]
  },
  {
   "cell_type": "markdown",
   "metadata": {},
   "source": [
    "## Find all classes defined in the Schema"
   ]
  },
  {
   "cell_type": "code",
   "execution_count": 3,
   "metadata": {},
   "outputs": [
    {
     "data": {
      "text/plain": [
       "[SchemaClass(name=BiologicalEntity),\n",
       " SchemaClass(name=Thing),\n",
       " SchemaClass(name=OntologyClass),\n",
       " SchemaClass(name=RelationshipType),\n",
       " SchemaClass(name=GeneOntologyClass),\n",
       " SchemaClass(name=OrganismTaxon),\n",
       " SchemaClass(name=OrganismalEntity),\n",
       " SchemaClass(name=IndividualOrganism),\n",
       " SchemaClass(name=Case),\n",
       " SchemaClass(name=PopulationOfIndividualOrganisms),\n",
       " SchemaClass(name=Biosample),\n",
       " SchemaClass(name=DiseaseOrPhenotypicFeature),\n",
       " SchemaClass(name=Disease),\n",
       " SchemaClass(name=PhenotypicFeature),\n",
       " SchemaClass(name=Environment),\n",
       " SchemaClass(name=InformationContentEntity),\n",
       " SchemaClass(name=ConfidenceLevel),\n",
       " SchemaClass(name=EvidenceType),\n",
       " SchemaClass(name=Publication),\n",
       " SchemaClass(name=MolecularEntity),\n",
       " SchemaClass(name=ChemicalSubstance),\n",
       " SchemaClass(name=Drug),\n",
       " SchemaClass(name=Metabolite),\n",
       " SchemaClass(name=AnatomicalEntity),\n",
       " SchemaClass(name=LifeStage),\n",
       " SchemaClass(name=PlanetaryEntity),\n",
       " SchemaClass(name=EnvironmentalProcess),\n",
       " SchemaClass(name=EnvironmentalFeature),\n",
       " SchemaClass(name=ClinicalEntity),\n",
       " SchemaClass(name=ClinicalTrial),\n",
       " SchemaClass(name=ClinicalIntervention),\n",
       " SchemaClass(name=Device),\n",
       " SchemaClass(name=GenomicEntity),\n",
       " SchemaClass(name=Genome),\n",
       " SchemaClass(name=Transcript),\n",
       " SchemaClass(name=Exon),\n",
       " SchemaClass(name=CodingSequence),\n",
       " SchemaClass(name=MacromolecularMachine),\n",
       " SchemaClass(name=GeneOrGeneProduct),\n",
       " SchemaClass(name=Gene),\n",
       " SchemaClass(name=GeneProduct),\n",
       " SchemaClass(name=Protein),\n",
       " SchemaClass(name=GeneProductIsoform),\n",
       " SchemaClass(name=ProteinIsoform),\n",
       " SchemaClass(name=RnaProduct),\n",
       " SchemaClass(name=RnaProductIsoform),\n",
       " SchemaClass(name=NoncodingRnaProduct),\n",
       " SchemaClass(name=Microrna),\n",
       " SchemaClass(name=MacromolecularComplex),\n",
       " SchemaClass(name=GeneFamily),\n",
       " SchemaClass(name=Genotype),\n",
       " SchemaClass(name=Haplotype),\n",
       " SchemaClass(name=SequenceVariant),\n",
       " SchemaClass(name=DrugExposure),\n",
       " SchemaClass(name=Treatment),\n",
       " SchemaClass(name=GeographicLocation),\n",
       " SchemaClass(name=GeographicLocationAtTime),\n",
       " SchemaClass(name=Occurrent),\n",
       " SchemaClass(name=BiologicalProcessOrActivity),\n",
       " SchemaClass(name=MolecularActivity),\n",
       " SchemaClass(name=ActivityAndBehavior),\n",
       " SchemaClass(name=Procedure),\n",
       " SchemaClass(name=Phenomenon),\n",
       " SchemaClass(name=BiologicalProcess),\n",
       " SchemaClass(name=Pathway),\n",
       " SchemaClass(name=Wikipathway),\n",
       " SchemaClass(name=ReactomePathway),\n",
       " SchemaClass(name=PhysiologicalProcess),\n",
       " SchemaClass(name=CellularComponent),\n",
       " SchemaClass(name=Cell),\n",
       " SchemaClass(name=CellLine),\n",
       " SchemaClass(name=GrossAnatomicalStructure),\n",
       " SchemaClass(name=ProteinStructure)]"
      ]
     },
     "execution_count": 3,
     "metadata": {},
     "output_type": "execute_result"
    }
   ],
   "source": [
    "se.list_all_classes()"
   ]
  },
  {
   "cell_type": "markdown",
   "metadata": {},
   "source": [
    "## Find all parents of a specific class"
   ]
  },
  {
   "cell_type": "code",
   "execution_count": 4,
   "metadata": {},
   "outputs": [
    {
     "data": {
      "text/plain": [
       "[[SchemaClass(name=Thing),\n",
       "  SchemaClass(name=BiologicalEntity),\n",
       "  SchemaClass(name=MolecularEntity),\n",
       "  SchemaClass(name=GenomicEntity),\n",
       "  SchemaClass(name=MacromolecularMachine),\n",
       "  SchemaClass(name=GeneOrGeneProduct)]]"
      ]
     },
     "execution_count": 4,
     "metadata": {},
     "output_type": "execute_result"
    }
   ],
   "source": [
    "# find parents of \"Gene\" class\n",
    "scls = se.get_class(\"Gene\")\n",
    "scls.parent_classes"
   ]
  },
  {
   "cell_type": "markdown",
   "metadata": {},
   "source": [
    "## Find all direct children of a specific class"
   ]
  },
  {
   "cell_type": "code",
   "execution_count": 5,
   "metadata": {},
   "outputs": [
    {
     "data": {
      "text/plain": [
       "[SchemaClass(name=ChemicalSubstance),\n",
       " SchemaClass(name=GenomicEntity),\n",
       " SchemaClass(name=GeneFamily)]"
      ]
     },
     "execution_count": 5,
     "metadata": {},
     "output_type": "execute_result"
    }
   ],
   "source": [
    "# find direct children of \"MolecularEntity\" class\n",
    "scls = se.get_class(\"MolecularEntity\")\n",
    "scls.child_classes"
   ]
  },
  {
   "cell_type": "markdown",
   "metadata": {},
   "source": [
    "# Find all descendants of a specific class"
   ]
  },
  {
   "cell_type": "code",
   "execution_count": 6,
   "metadata": {},
   "outputs": [
    {
     "data": {
      "text/plain": [
       "[SchemaClass(name=Protein),\n",
       " SchemaClass(name=Microrna),\n",
       " SchemaClass(name=Exon),\n",
       " SchemaClass(name=Drug),\n",
       " SchemaClass(name=Metabolite),\n",
       " SchemaClass(name=ProteinIsoform),\n",
       " SchemaClass(name=MacromolecularComplex),\n",
       " SchemaClass(name=Haplotype),\n",
       " SchemaClass(name=Genome),\n",
       " SchemaClass(name=GeneOrGeneProduct),\n",
       " SchemaClass(name=MacromolecularMachine),\n",
       " SchemaClass(name=GenomicEntity),\n",
       " SchemaClass(name=Gene),\n",
       " SchemaClass(name=GeneProduct),\n",
       " SchemaClass(name=ChemicalSubstance),\n",
       " SchemaClass(name=SequenceVariant),\n",
       " SchemaClass(name=RnaProduct),\n",
       " SchemaClass(name=GeneProductIsoform),\n",
       " SchemaClass(name=RnaProductIsoform),\n",
       " SchemaClass(name=Genotype),\n",
       " SchemaClass(name=CodingSequence),\n",
       " SchemaClass(name=Transcript),\n",
       " SchemaClass(name=GeneFamily),\n",
       " SchemaClass(name=NoncodingRnaProduct)]"
      ]
     },
     "execution_count": 6,
     "metadata": {},
     "output_type": "execute_result"
    }
   ],
   "source": [
    "# find descendants of \"MolecularEntity\" class\n",
    "scls = se.get_class(\"MolecularEntity\")\n",
    "scls.descendant_classes"
   ]
  },
  {
   "cell_type": "markdown",
   "metadata": {},
   "source": [
    "## Find properties specifically defined for a class"
   ]
  },
  {
   "cell_type": "code",
   "execution_count": 7,
   "metadata": {},
   "outputs": [
    {
     "data": {
      "text/plain": [
       "[{'class': 'Gene',\n",
       "  'properties': [SchemaProperty(name=hgnc),\n",
       "   SchemaProperty(name=mgi),\n",
       "   SchemaProperty(name=rgd),\n",
       "   SchemaProperty(name=zfin),\n",
       "   SchemaProperty(name=flybase),\n",
       "   SchemaProperty(name=sgd),\n",
       "   SchemaProperty(name=pombase),\n",
       "   SchemaProperty(name=dictybase),\n",
       "   SchemaProperty(name=tair),\n",
       "   SchemaProperty(name=inTaxon),\n",
       "   SchemaProperty(name=entrez),\n",
       "   SchemaProperty(name=pharos),\n",
       "   SchemaProperty(name=pharmgkb),\n",
       "   SchemaProperty(name=symbol),\n",
       "   SchemaProperty(name=omim),\n",
       "   SchemaProperty(name=umls),\n",
       "   SchemaProperty(name=unigene),\n",
       "   SchemaProperty(name=geneticallyInteractsWith),\n",
       "   SchemaProperty(name=hasGeneProduct),\n",
       "   SchemaProperty(name=hasTranscript),\n",
       "   SchemaProperty(name=geneAssociatedWithCondition)]}]"
      ]
     },
     "execution_count": 7,
     "metadata": {},
     "output_type": "execute_result"
    }
   ],
   "source": [
    "# find properties specifically defined for \"Gene\" class\n",
    "scls = se.get_class(\"Gene\")\n",
    "scls.list_properties()"
   ]
  },
  {
   "cell_type": "markdown",
   "metadata": {},
   "source": [
    "## Find all properties related to a class (including the parents' properties)"
   ]
  },
  {
   "cell_type": "code",
   "execution_count": 8,
   "metadata": {},
   "outputs": [
    {
     "data": {
      "text/plain": [
       "[{'class': 'Gene',\n",
       "  'properties': [SchemaProperty(name=hgnc),\n",
       "   SchemaProperty(name=mgi),\n",
       "   SchemaProperty(name=rgd),\n",
       "   SchemaProperty(name=zfin),\n",
       "   SchemaProperty(name=flybase),\n",
       "   SchemaProperty(name=sgd),\n",
       "   SchemaProperty(name=pombase),\n",
       "   SchemaProperty(name=dictybase),\n",
       "   SchemaProperty(name=tair),\n",
       "   SchemaProperty(name=inTaxon),\n",
       "   SchemaProperty(name=entrez),\n",
       "   SchemaProperty(name=pharos),\n",
       "   SchemaProperty(name=pharmgkb),\n",
       "   SchemaProperty(name=symbol),\n",
       "   SchemaProperty(name=omim),\n",
       "   SchemaProperty(name=umls),\n",
       "   SchemaProperty(name=unigene),\n",
       "   SchemaProperty(name=geneticallyInteractsWith),\n",
       "   SchemaProperty(name=hasGeneProduct),\n",
       "   SchemaProperty(name=hasTranscript),\n",
       "   SchemaProperty(name=geneAssociatedWithCondition)]},\n",
       " {'class': 'GeneOrGeneProduct',\n",
       "  'properties': [SchemaProperty(name=ensembl),\n",
       "   SchemaProperty(name=refseq),\n",
       "   SchemaProperty(name=metabolize),\n",
       "   SchemaProperty(name=targetedBy),\n",
       "   SchemaProperty(name=enablesMF),\n",
       "   SchemaProperty(name=involvedInBP),\n",
       "   SchemaProperty(name=involvedInPathway),\n",
       "   SchemaProperty(name=involvedInWikipathway),\n",
       "   SchemaProperty(name=involvedInReactomePathway),\n",
       "   SchemaProperty(name=hasHomolog),\n",
       "   SchemaProperty(name=orthologousTo),\n",
       "   SchemaProperty(name=hasProteinStructure),\n",
       "   SchemaProperty(name=inPathwayWith),\n",
       "   SchemaProperty(name=inComplexWith),\n",
       "   SchemaProperty(name=inCellPopulationWith),\n",
       "   SchemaProperty(name=expressedIn)]},\n",
       " {'class': 'MacromolecularMachine', 'properties': []},\n",
       " {'class': 'GenomicEntity', 'properties': []},\n",
       " {'class': 'MolecularEntity',\n",
       "  'properties': [SchemaProperty(name=molecularlyInteractsWith),\n",
       "   SchemaProperty(name=affectsAbundanceOf),\n",
       "   SchemaProperty(name=increasesAbundanceOf),\n",
       "   SchemaProperty(name=decreasesAbundanceOf),\n",
       "   SchemaProperty(name=affectsActivityOf),\n",
       "   SchemaProperty(name=increasesActivityOf),\n",
       "   SchemaProperty(name=decreasesActivityOf),\n",
       "   SchemaProperty(name=affectsExpressionOf),\n",
       "   SchemaProperty(name=increasesExpressionOf),\n",
       "   SchemaProperty(name=decreasesExpressionOf),\n",
       "   SchemaProperty(name=affectsFoldingOf),\n",
       "   SchemaProperty(name=increasesFoldingOf),\n",
       "   SchemaProperty(name=decreasesFoldingOf),\n",
       "   SchemaProperty(name=affectsLocalizationOf),\n",
       "   SchemaProperty(name=increasesLocalizationOf),\n",
       "   SchemaProperty(name=decreasesLocalizationOf),\n",
       "   SchemaProperty(name=affectsMetabolicProcessingOf),\n",
       "   SchemaProperty(name=increasesMetabolicProcessingOf),\n",
       "   SchemaProperty(name=decreasesMetabolicProcessingOf),\n",
       "   SchemaProperty(name=affectsMolecularModificationOf),\n",
       "   SchemaProperty(name=increasesMolecularModificationOf),\n",
       "   SchemaProperty(name=decreasesMolecularModificationOf),\n",
       "   SchemaProperty(name=affectsSynthesisOf),\n",
       "   SchemaProperty(name=increasesSynthesisOf),\n",
       "   SchemaProperty(name=decreasesSynthesisOf),\n",
       "   SchemaProperty(name=affectsDegradationOf),\n",
       "   SchemaProperty(name=increasesDegradationOf),\n",
       "   SchemaProperty(name=decreasesDegradationOf),\n",
       "   SchemaProperty(name=affectsMutationRateOf),\n",
       "   SchemaProperty(name=increasesMutationRateOf),\n",
       "   SchemaProperty(name=decreasesMutationRateOf),\n",
       "   SchemaProperty(name=affectsResponseTo),\n",
       "   SchemaProperty(name=increasesResponseTo),\n",
       "   SchemaProperty(name=decreasesResponseTo),\n",
       "   SchemaProperty(name=affectsSplicingOf),\n",
       "   SchemaProperty(name=increasesSplicingOf),\n",
       "   SchemaProperty(name=decreasesSplicingOf),\n",
       "   SchemaProperty(name=affectsStabilityOf),\n",
       "   SchemaProperty(name=increasesStabilityOf),\n",
       "   SchemaProperty(name=decreasesStabilityOf),\n",
       "   SchemaProperty(name=affectsTransportOf),\n",
       "   SchemaProperty(name=increasesTransportOf),\n",
       "   SchemaProperty(name=decreasesTransportOf),\n",
       "   SchemaProperty(name=affectsSecretionOf),\n",
       "   SchemaProperty(name=increasesSecretionOf),\n",
       "   SchemaProperty(name=decreasesSecretionOf),\n",
       "   SchemaProperty(name=affectsUptakeOf),\n",
       "   SchemaProperty(name=increasesUptakeOf),\n",
       "   SchemaProperty(name=decreasesUptakeOf),\n",
       "   SchemaProperty(name=regulates,EntityToEntity),\n",
       "   SchemaProperty(name=biomarkerFor)]},\n",
       " {'class': 'BiologicalEntity',\n",
       "  'properties': [SchemaProperty(name=hasPhenotype)]},\n",
       " {'class': 'Thing',\n",
       "  'properties': [SchemaProperty(name=sameAs),\n",
       "   SchemaProperty(name=alternateName),\n",
       "   SchemaProperty(name=image),\n",
       "   SchemaProperty(name=additionalType),\n",
       "   SchemaProperty(name=name),\n",
       "   SchemaProperty(name=identifier),\n",
       "   SchemaProperty(name=subjectOf),\n",
       "   SchemaProperty(name=mainEntityOfPage),\n",
       "   SchemaProperty(name=url),\n",
       "   SchemaProperty(name=potentialAction),\n",
       "   SchemaProperty(name=description),\n",
       "   SchemaProperty(name=disambiguatingDescription)]}]"
      ]
     },
     "execution_count": 8,
     "metadata": {},
     "output_type": "execute_result"
    }
   ],
   "source": [
    "# find all properties related to \"Gene\"\n",
    "scls = se.get_class(\"Gene\")\n",
    "scls.list_properties(class_specific=False)"
   ]
  },
  {
   "cell_type": "markdown",
   "metadata": {},
   "source": [
    "## Explore where a class is used"
   ]
  },
  {
   "cell_type": "code",
   "execution_count": 9,
   "metadata": {},
   "outputs": [
    {
     "data": {
      "text/plain": [
       "[{'property': SchemaProperty(name=affectsExpressionOf),\n",
       "  'property_used_on_class': SchemaClass(name=MolecularEntity),\n",
       "  'description': 'holds between two molecular entities where the action or effect of one changes the level of expression of the other within a system of interest'},\n",
       " {'property': SchemaProperty(name=increasesExpressionOf),\n",
       "  'property_used_on_class': SchemaClass(name=MolecularEntity),\n",
       "  'description': 'holds between two molecular entities where the action or effect of one increases the level of expression of the other within a system of interest'},\n",
       " {'property': SchemaProperty(name=decreasesExpressionOf),\n",
       "  'property_used_on_class': SchemaClass(name=MolecularEntity),\n",
       "  'description': 'holds between two molecular entities where the action or effect of one decreases the level of expression of the other within a system of interest'},\n",
       " {'property': SchemaProperty(name=affectsMutationRateOf),\n",
       "  'property_used_on_class': SchemaClass(name=MolecularEntity),\n",
       "  'description': 'holds between a molecular entity and a genomic entity where the action or effect of the molecular entity impacts the rate of mutation of the genomic entity within a system of interest'},\n",
       " {'property': SchemaProperty(name=increasesMutationRateOf),\n",
       "  'property_used_on_class': SchemaClass(name=MolecularEntity),\n",
       "  'description': 'holds between a molecular entity and a genomic entity where the action or effect of the molecular entity increases the rate of mutation of the genomic entity within a system of interest'},\n",
       " {'property': SchemaProperty(name=decreasesMutationRateOf),\n",
       "  'property_used_on_class': SchemaClass(name=MolecularEntity),\n",
       "  'description': 'holds between a molecular entity and a genomic entity where the action or effect of the molecular entity decreases the rate of mutation of the genomic entity within a system of interest'}]"
      ]
     },
     "execution_count": 9,
     "metadata": {},
     "output_type": "execute_result"
    }
   ],
   "source": [
    "# find where \"GenomicEntity\" class is used\n",
    "scls = se.get_class(\"GenomicEntity\")\n",
    "scls.used_by()"
   ]
  },
  {
   "cell_type": "markdown",
   "metadata": {},
   "source": [
    "## Explore all information related to the class"
   ]
  },
  {
   "cell_type": "markdown",
   "metadata": {},
   "source": [
    "Including:\n",
    "1. Related properties\n",
    "2. Parent classes\n",
    "3. Direct child classes\n",
    "4. Where the class is used"
   ]
  },
  {
   "cell_type": "code",
   "execution_count": 10,
   "metadata": {},
   "outputs": [
    {
     "data": {
      "text/plain": [
       "{'properties': [{'class': 'GenomicEntity', 'properties': []},\n",
       "  {'class': 'MolecularEntity',\n",
       "   'properties': [SchemaProperty(name=molecularlyInteractsWith),\n",
       "    SchemaProperty(name=affectsAbundanceOf),\n",
       "    SchemaProperty(name=increasesAbundanceOf),\n",
       "    SchemaProperty(name=decreasesAbundanceOf),\n",
       "    SchemaProperty(name=affectsActivityOf),\n",
       "    SchemaProperty(name=increasesActivityOf),\n",
       "    SchemaProperty(name=decreasesActivityOf),\n",
       "    SchemaProperty(name=affectsExpressionOf),\n",
       "    SchemaProperty(name=increasesExpressionOf),\n",
       "    SchemaProperty(name=decreasesExpressionOf),\n",
       "    SchemaProperty(name=affectsFoldingOf),\n",
       "    SchemaProperty(name=increasesFoldingOf),\n",
       "    SchemaProperty(name=decreasesFoldingOf),\n",
       "    SchemaProperty(name=affectsLocalizationOf),\n",
       "    SchemaProperty(name=increasesLocalizationOf),\n",
       "    SchemaProperty(name=decreasesLocalizationOf),\n",
       "    SchemaProperty(name=affectsMetabolicProcessingOf),\n",
       "    SchemaProperty(name=increasesMetabolicProcessingOf),\n",
       "    SchemaProperty(name=decreasesMetabolicProcessingOf),\n",
       "    SchemaProperty(name=affectsMolecularModificationOf),\n",
       "    SchemaProperty(name=increasesMolecularModificationOf),\n",
       "    SchemaProperty(name=decreasesMolecularModificationOf),\n",
       "    SchemaProperty(name=affectsSynthesisOf),\n",
       "    SchemaProperty(name=increasesSynthesisOf),\n",
       "    SchemaProperty(name=decreasesSynthesisOf),\n",
       "    SchemaProperty(name=affectsDegradationOf),\n",
       "    SchemaProperty(name=increasesDegradationOf),\n",
       "    SchemaProperty(name=decreasesDegradationOf),\n",
       "    SchemaProperty(name=affectsMutationRateOf),\n",
       "    SchemaProperty(name=increasesMutationRateOf),\n",
       "    SchemaProperty(name=decreasesMutationRateOf),\n",
       "    SchemaProperty(name=affectsResponseTo),\n",
       "    SchemaProperty(name=increasesResponseTo),\n",
       "    SchemaProperty(name=decreasesResponseTo),\n",
       "    SchemaProperty(name=affectsSplicingOf),\n",
       "    SchemaProperty(name=increasesSplicingOf),\n",
       "    SchemaProperty(name=decreasesSplicingOf),\n",
       "    SchemaProperty(name=affectsStabilityOf),\n",
       "    SchemaProperty(name=increasesStabilityOf),\n",
       "    SchemaProperty(name=decreasesStabilityOf),\n",
       "    SchemaProperty(name=affectsTransportOf),\n",
       "    SchemaProperty(name=increasesTransportOf),\n",
       "    SchemaProperty(name=decreasesTransportOf),\n",
       "    SchemaProperty(name=affectsSecretionOf),\n",
       "    SchemaProperty(name=increasesSecretionOf),\n",
       "    SchemaProperty(name=decreasesSecretionOf),\n",
       "    SchemaProperty(name=affectsUptakeOf),\n",
       "    SchemaProperty(name=increasesUptakeOf),\n",
       "    SchemaProperty(name=decreasesUptakeOf),\n",
       "    SchemaProperty(name=regulates,EntityToEntity),\n",
       "    SchemaProperty(name=biomarkerFor)]},\n",
       "  {'class': 'BiologicalEntity',\n",
       "   'properties': [SchemaProperty(name=hasPhenotype)]},\n",
       "  {'class': 'Thing',\n",
       "   'properties': [SchemaProperty(name=sameAs),\n",
       "    SchemaProperty(name=alternateName),\n",
       "    SchemaProperty(name=image),\n",
       "    SchemaProperty(name=additionalType),\n",
       "    SchemaProperty(name=name),\n",
       "    SchemaProperty(name=identifier),\n",
       "    SchemaProperty(name=subjectOf),\n",
       "    SchemaProperty(name=mainEntityOfPage),\n",
       "    SchemaProperty(name=url),\n",
       "    SchemaProperty(name=potentialAction),\n",
       "    SchemaProperty(name=description),\n",
       "    SchemaProperty(name=disambiguatingDescription)]}],\n",
       " 'description': 'an entity that can either be directly located on a genome (gene, transcript, exon, regulatory region) or is encoded in a genome (protein)',\n",
       " 'uri': 'http://schema.biothings.io/GenomicEntity',\n",
       " 'usage': [{'property': SchemaProperty(name=affectsExpressionOf),\n",
       "   'property_used_on_class': SchemaClass(name=MolecularEntity),\n",
       "   'description': 'holds between two molecular entities where the action or effect of one changes the level of expression of the other within a system of interest'},\n",
       "  {'property': SchemaProperty(name=increasesExpressionOf),\n",
       "   'property_used_on_class': SchemaClass(name=MolecularEntity),\n",
       "   'description': 'holds between two molecular entities where the action or effect of one increases the level of expression of the other within a system of interest'},\n",
       "  {'property': SchemaProperty(name=decreasesExpressionOf),\n",
       "   'property_used_on_class': SchemaClass(name=MolecularEntity),\n",
       "   'description': 'holds between two molecular entities where the action or effect of one decreases the level of expression of the other within a system of interest'},\n",
       "  {'property': SchemaProperty(name=affectsMutationRateOf),\n",
       "   'property_used_on_class': SchemaClass(name=MolecularEntity),\n",
       "   'description': 'holds between a molecular entity and a genomic entity where the action or effect of the molecular entity impacts the rate of mutation of the genomic entity within a system of interest'},\n",
       "  {'property': SchemaProperty(name=increasesMutationRateOf),\n",
       "   'property_used_on_class': SchemaClass(name=MolecularEntity),\n",
       "   'description': 'holds between a molecular entity and a genomic entity where the action or effect of the molecular entity increases the rate of mutation of the genomic entity within a system of interest'},\n",
       "  {'property': SchemaProperty(name=decreasesMutationRateOf),\n",
       "   'property_used_on_class': SchemaClass(name=MolecularEntity),\n",
       "   'description': 'holds between a molecular entity and a genomic entity where the action or effect of the molecular entity decreases the rate of mutation of the genomic entity within a system of interest'}],\n",
       " 'child_classes': [SchemaClass(name=Genome),\n",
       "  SchemaClass(name=Transcript),\n",
       "  SchemaClass(name=Exon),\n",
       "  SchemaClass(name=CodingSequence),\n",
       "  SchemaClass(name=MacromolecularMachine),\n",
       "  SchemaClass(name=Genotype),\n",
       "  SchemaClass(name=Haplotype),\n",
       "  SchemaClass(name=SequenceVariant)],\n",
       " 'parent_classes': [[SchemaClass(name=Thing),\n",
       "   SchemaClass(name=BiologicalEntity),\n",
       "   SchemaClass(name=MolecularEntity)]]}"
      ]
     },
     "execution_count": 10,
     "metadata": {},
     "output_type": "execute_result"
    }
   ],
   "source": [
    "# explore all information related to \"GenomicEntity\" class\n",
    "scls = se.get_class(\"GenomicEntity\")\n",
    "scls.describe()"
   ]
  },
  {
   "cell_type": "markdown",
   "metadata": {},
   "source": [
    "## Find all parents of a specific property"
   ]
  },
  {
   "cell_type": "code",
   "execution_count": 11,
   "metadata": {},
   "outputs": [
    {
     "data": {
      "text/plain": [
       "[SchemaClass(name=identifier)]"
      ]
     },
     "execution_count": 11,
     "metadata": {},
     "output_type": "execute_result"
    }
   ],
   "source": [
    "# find parents of \"ensembl\" property\n",
    "sp = se.get_property(\"ensembl\")\n",
    "sp.parent_properties"
   ]
  },
  {
   "cell_type": "markdown",
   "metadata": {},
   "source": [
    "## Find all children of a specific property"
   ]
  },
  {
   "cell_type": "code",
   "execution_count": 12,
   "metadata": {},
   "outputs": [
    {
     "data": {
      "text/plain": [
       "[SchemaClass(name=ensembl),\n",
       " SchemaClass(name=hgnc),\n",
       " SchemaClass(name=mgi),\n",
       " SchemaClass(name=rgd),\n",
       " SchemaClass(name=zfin),\n",
       " SchemaClass(name=flybase),\n",
       " SchemaClass(name=sgd),\n",
       " SchemaClass(name=pombase),\n",
       " SchemaClass(name=dictybase),\n",
       " SchemaClass(name=tair),\n",
       " SchemaClass(name=entrez),\n",
       " SchemaClass(name=pharos),\n",
       " SchemaClass(name=pharmgkb),\n",
       " SchemaClass(name=symbol),\n",
       " SchemaClass(name=uniprot),\n",
       " SchemaClass(name=refseq),\n",
       " SchemaClass(name=omim),\n",
       " SchemaClass(name=umls),\n",
       " SchemaClass(name=unigene),\n",
       " SchemaClass(name=inchi),\n",
       " SchemaClass(name=inchikey),\n",
       " SchemaClass(name=rxcui),\n",
       " SchemaClass(name=smiles),\n",
       " SchemaClass(name=pubchem),\n",
       " SchemaClass(name=chembl),\n",
       " SchemaClass(name=drugbank),\n",
       " SchemaClass(name=unii),\n",
       " SchemaClass(name=isbn),\n",
       " SchemaClass(name=sku),\n",
       " SchemaClass(name=serialNumber),\n",
       " SchemaClass(name=orderNumber),\n",
       " SchemaClass(name=gtin8),\n",
       " SchemaClass(name=flightNumber),\n",
       " SchemaClass(name=globalLocationNumber),\n",
       " SchemaClass(name=confirmationNumber),\n",
       " SchemaClass(name=duns),\n",
       " SchemaClass(name=taxID),\n",
       " SchemaClass(name=issn),\n",
       " SchemaClass(name=gtin14),\n",
       " SchemaClass(name=gtin13),\n",
       " SchemaClass(name=gtin12),\n",
       " SchemaClass(name=productID),\n",
       " SchemaClass(name=accountId),\n",
       " SchemaClass(name=leiCode)]"
      ]
     },
     "execution_count": 12,
     "metadata": {},
     "output_type": "execute_result"
    }
   ],
   "source": [
    "# find parents of \"identifier\" property\n",
    "sp = se.get_property(\"identifier\")\n",
    "sp.child_properties"
   ]
  },
  {
   "cell_type": "markdown",
   "metadata": {},
   "source": [
    "## Explore information about a property"
   ]
  },
  {
   "cell_type": "markdown",
   "metadata": {},
   "source": [
    "Includes:\n",
    "1. ID\n",
    "2. Description\n",
    "3. Domain (which class(es) use this property)\n",
    "4. Range (the value type)\n",
    "5. Parent properties\n",
    "6. Child properties"
   ]
  },
  {
   "cell_type": "code",
   "execution_count": 13,
   "metadata": {},
   "outputs": [
    {
     "data": {
      "text/plain": [
       "{'child_properties': [],\n",
       " 'descendant_properties': [],\n",
       " 'parent_properties': [SchemaClass(name=identifier)],\n",
       " 'id': 'ensembl',\n",
       " 'description': 'Ensembl ID for gene, protein or transcript',\n",
       " 'domain': ['GeneOrGeneProduct', 'Transcript'],\n",
       " 'range': 'Text'}"
      ]
     },
     "execution_count": 13,
     "metadata": {},
     "output_type": "execute_result"
    }
   ],
   "source": [
    "# explore \"ensembl\" class\n",
    "sp = se.get_property(\"ensembl\")\n",
    "sp.describe()"
   ]
  }
 ],
 "metadata": {
  "kernelspec": {
   "display_name": "Python 3",
   "language": "python",
   "name": "python3"
  },
  "language_info": {
   "codemirror_mode": {
    "name": "ipython",
    "version": 3
   },
   "file_extension": ".py",
   "mimetype": "text/x-python",
   "name": "python",
   "nbconvert_exporter": "python",
   "pygments_lexer": "ipython3",
   "version": "3.7.3"
  }
 },
 "nbformat": 4,
 "nbformat_minor": 2
}
