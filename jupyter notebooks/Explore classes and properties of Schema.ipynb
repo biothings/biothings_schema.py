{
 "cells": [
  {
   "cell_type": "markdown",
   "metadata": {},
   "source": [
    "# How to use biothings_schema package to explorer classes and properties"
   ]
  },
  {
   "cell_type": "code",
   "execution_count": 1,
   "metadata": {},
   "outputs": [],
   "source": [
    "# load python package\n",
    "from biothings_schema import Schema"
   ]
  },
  {
   "cell_type": "code",
   "execution_count": 2,
   "metadata": {},
   "outputs": [],
   "source": [
    "# load schema\n",
    "se = Schema(\"https://raw.githubusercontent.com/data2health/schemas/biothings/biothings/biothings_curie_kevin.jsonld\")"
   ]
  },
  {
   "cell_type": "markdown",
   "metadata": {},
   "source": [
    "## Find all classes defined in the Schema"
   ]
  },
  {
   "cell_type": "code",
   "execution_count": 5,
   "metadata": {},
   "outputs": [
    {
     "data": {
      "text/plain": [
       "[<SchemaClass \"BiologicalEntity\">,\n",
       " <SchemaClass \"Thing\">,\n",
       " <SchemaClass \"OntologyClass\">,\n",
       " <SchemaClass \"RelationshipType\">,\n",
       " <SchemaClass \"GeneOntologyClass\">,\n",
       " <SchemaClass \"OrganismTaxon\">,\n",
       " <SchemaClass \"OrganismalEntity\">,\n",
       " <SchemaClass \"IndividualOrganism\">,\n",
       " <SchemaClass \"Case\">,\n",
       " <SchemaClass \"PopulationOfIndividualOrganisms\">,\n",
       " <SchemaClass \"Biosample\">,\n",
       " <SchemaClass \"DiseaseOrPhenotypicFeature\">,\n",
       " <SchemaClass \"Disease\">,\n",
       " <SchemaClass \"PhenotypicFeature\">,\n",
       " <SchemaClass \"Environment\">,\n",
       " <SchemaClass \"InformationContentEntity\">,\n",
       " <SchemaClass \"ConfidenceLevel\">,\n",
       " <SchemaClass \"EvidenceType\">,\n",
       " <SchemaClass \"Publication\">,\n",
       " <SchemaClass \"MolecularEntity\">,\n",
       " <SchemaClass \"ChemicalSubstance\">,\n",
       " <SchemaClass \"Drug\">,\n",
       " <SchemaClass \"Metabolite\">,\n",
       " <SchemaClass \"AnatomicalEntity\">,\n",
       " <SchemaClass \"LifeStage\">,\n",
       " <SchemaClass \"PlanetaryEntity\">,\n",
       " <SchemaClass \"EnvironmentalProcess\">,\n",
       " <SchemaClass \"EnvironmentalFeature\">,\n",
       " <SchemaClass \"ClinicalEntity\">,\n",
       " <SchemaClass \"ClinicalTrial\">,\n",
       " <SchemaClass \"ClinicalIntervention\">,\n",
       " <SchemaClass \"Device\">,\n",
       " <SchemaClass \"GenomicEntity\">,\n",
       " <SchemaClass \"Genome\">,\n",
       " <SchemaClass \"Transcript\">,\n",
       " <SchemaClass \"Exon\">,\n",
       " <SchemaClass \"CodingSequence\">,\n",
       " <SchemaClass \"MacromolecularMachine\">,\n",
       " <SchemaClass \"GeneOrGeneProduct\">,\n",
       " <SchemaClass \"Gene\">,\n",
       " <SchemaClass \"GeneProduct\">,\n",
       " <SchemaClass \"Protein\">,\n",
       " <SchemaClass \"GeneProductIsoform\">,\n",
       " <SchemaClass \"ProteinIsoform\">,\n",
       " <SchemaClass \"RnaProduct\">,\n",
       " <SchemaClass \"RnaProductIsoform\">,\n",
       " <SchemaClass \"NoncodingRnaProduct\">,\n",
       " <SchemaClass \"Microrna\">,\n",
       " <SchemaClass \"MacromolecularComplex\">,\n",
       " <SchemaClass \"GeneFamily\">,\n",
       " <SchemaClass \"Genotype\">,\n",
       " <SchemaClass \"Haplotype\">,\n",
       " <SchemaClass \"SequenceVariant\">,\n",
       " <SchemaClass \"DrugExposure\">,\n",
       " <SchemaClass \"Treatment\">,\n",
       " <SchemaClass \"GeographicLocation\">,\n",
       " <SchemaClass \"GeographicLocationAtTime\">,\n",
       " <SchemaClass \"Occurrent\">,\n",
       " <SchemaClass \"BiologicalProcessOrActivity\">,\n",
       " <SchemaClass \"MolecularActivity\">,\n",
       " <SchemaClass \"ActivityAndBehavior\">,\n",
       " <SchemaClass \"Procedure\">,\n",
       " <SchemaClass \"Phenomenon\">,\n",
       " <SchemaClass \"BiologicalProcess\">,\n",
       " <SchemaClass \"Pathway\">,\n",
       " <SchemaClass \"Wikipathway\">,\n",
       " <SchemaClass \"ReactomePathway\">,\n",
       " <SchemaClass \"PhysiologicalProcess\">,\n",
       " <SchemaClass \"CellularComponent\">,\n",
       " <SchemaClass \"Cell\">,\n",
       " <SchemaClass \"CellLine\">,\n",
       " <SchemaClass \"GrossAnatomicalStructure\">,\n",
       " <SchemaClass \"ProteinStructure\">]"
      ]
     },
     "execution_count": 5,
     "metadata": {},
     "output_type": "execute_result"
    }
   ],
   "source": [
    "se.list_all_classes()"
   ]
  },
  {
   "cell_type": "markdown",
   "metadata": {},
   "source": [
    "## Find all parents of a specific class"
   ]
  },
  {
   "cell_type": "code",
   "execution_count": 6,
   "metadata": {},
   "outputs": [
    {
     "data": {
      "text/plain": [
       "[[<SchemaClass \"Thing\">,\n",
       "  <SchemaClass \"BiologicalEntity\">,\n",
       "  <SchemaClass \"MolecularEntity\">,\n",
       "  <SchemaClass \"GenomicEntity\">,\n",
       "  <SchemaClass \"MacromolecularMachine\">,\n",
       "  <SchemaClass \"GeneOrGeneProduct\">]]"
      ]
     },
     "execution_count": 6,
     "metadata": {},
     "output_type": "execute_result"
    }
   ],
   "source": [
    "# find parents of \"Gene\" class\n",
    "scls = se.get_class(\"Gene\")\n",
    "scls.parent_classes"
   ]
  },
  {
   "cell_type": "markdown",
   "metadata": {},
   "source": [
    "## Find all direct children of a specific class"
   ]
  },
  {
   "cell_type": "code",
   "execution_count": 7,
   "metadata": {},
   "outputs": [
    {
     "data": {
      "text/plain": [
       "[<SchemaClass \"ChemicalSubstance\">,\n",
       " <SchemaClass \"GenomicEntity\">,\n",
       " <SchemaClass \"GeneFamily\">]"
      ]
     },
     "execution_count": 7,
     "metadata": {},
     "output_type": "execute_result"
    }
   ],
   "source": [
    "# find direct children of \"MolecularEntity\" class\n",
    "scls = se.get_class(\"MolecularEntity\")\n",
    "scls.child_classes"
   ]
  },
  {
   "cell_type": "markdown",
   "metadata": {},
   "source": [
    "# Find all descendants of a specific class"
   ]
  },
  {
   "cell_type": "code",
   "execution_count": 8,
   "metadata": {},
   "outputs": [
    {
     "data": {
      "text/plain": [
       "[<SchemaClass \"MacromolecularComplex\">,\n",
       " <SchemaClass \"CodingSequence\">,\n",
       " <SchemaClass \"Exon\">,\n",
       " <SchemaClass \"RnaProductIsoform\">,\n",
       " <SchemaClass \"NoncodingRnaProduct\">,\n",
       " <SchemaClass \"RnaProduct\">,\n",
       " <SchemaClass \"GeneOrGeneProduct\">,\n",
       " <SchemaClass \"SequenceVariant\">,\n",
       " <SchemaClass \"Transcript\">,\n",
       " <SchemaClass \"Protein\">,\n",
       " <SchemaClass \"ProteinIsoform\">,\n",
       " <SchemaClass \"ChemicalSubstance\">,\n",
       " <SchemaClass \"GenomicEntity\">,\n",
       " <SchemaClass \"GeneFamily\">,\n",
       " <SchemaClass \"Genome\">,\n",
       " <SchemaClass \"Drug\">,\n",
       " <SchemaClass \"GeneProductIsoform\">,\n",
       " <SchemaClass \"Gene\">,\n",
       " <SchemaClass \"Microrna\">,\n",
       " <SchemaClass \"Genotype\">,\n",
       " <SchemaClass \"MacromolecularMachine\">,\n",
       " <SchemaClass \"Metabolite\">,\n",
       " <SchemaClass \"GeneProduct\">,\n",
       " <SchemaClass \"Haplotype\">]"
      ]
     },
     "execution_count": 8,
     "metadata": {},
     "output_type": "execute_result"
    }
   ],
   "source": [
    "# find descendants of \"MolecularEntity\" class\n",
    "scls = se.get_class(\"MolecularEntity\")\n",
    "scls.descendant_classes"
   ]
  },
  {
   "cell_type": "markdown",
   "metadata": {},
   "source": [
    "## Find properties specifically defined for a class"
   ]
  },
  {
   "cell_type": "code",
   "execution_count": 9,
   "metadata": {},
   "outputs": [
    {
     "data": {
      "text/plain": [
       "[{'class': 'Gene',\n",
       "  'properties': [<SchemaProperty \"hgnc\"\">,\n",
       "   <SchemaProperty \"mgi\"\">,\n",
       "   <SchemaProperty \"rgd\"\">,\n",
       "   <SchemaProperty \"zfin\"\">,\n",
       "   <SchemaProperty \"flybase\"\">,\n",
       "   <SchemaProperty \"sgd\"\">,\n",
       "   <SchemaProperty \"pombase\"\">,\n",
       "   <SchemaProperty \"dictybase\"\">,\n",
       "   <SchemaProperty \"tair\"\">,\n",
       "   <SchemaProperty \"inTaxon\"\">,\n",
       "   <SchemaProperty \"entrez\"\">,\n",
       "   <SchemaProperty \"pharos\"\">,\n",
       "   <SchemaProperty \"pharmgkb\"\">,\n",
       "   <SchemaProperty \"symbol\"\">,\n",
       "   <SchemaProperty \"omim\"\">,\n",
       "   <SchemaProperty \"umls\"\">,\n",
       "   <SchemaProperty \"unigene\"\">,\n",
       "   <SchemaProperty \"geneticallyInteractsWith\"\">,\n",
       "   <SchemaProperty \"hasGeneProduct\"\">,\n",
       "   <SchemaProperty \"hasTranscript\"\">,\n",
       "   <SchemaProperty \"geneAssociatedWithCondition\"\">]}]"
      ]
     },
     "execution_count": 9,
     "metadata": {},
     "output_type": "execute_result"
    }
   ],
   "source": [
    "# find properties specifically defined for \"Gene\" class\n",
    "scls = se.get_class(\"Gene\")\n",
    "scls.list_properties()"
   ]
  },
  {
   "cell_type": "markdown",
   "metadata": {},
   "source": [
    "## Find all properties related to a class (including the parents' properties)"
   ]
  },
  {
   "cell_type": "code",
   "execution_count": 10,
   "metadata": {},
   "outputs": [
    {
     "data": {
      "text/plain": [
       "[{'class': 'Gene',\n",
       "  'properties': [<SchemaProperty \"hgnc\"\">,\n",
       "   <SchemaProperty \"mgi\"\">,\n",
       "   <SchemaProperty \"rgd\"\">,\n",
       "   <SchemaProperty \"zfin\"\">,\n",
       "   <SchemaProperty \"flybase\"\">,\n",
       "   <SchemaProperty \"sgd\"\">,\n",
       "   <SchemaProperty \"pombase\"\">,\n",
       "   <SchemaProperty \"dictybase\"\">,\n",
       "   <SchemaProperty \"tair\"\">,\n",
       "   <SchemaProperty \"inTaxon\"\">,\n",
       "   <SchemaProperty \"entrez\"\">,\n",
       "   <SchemaProperty \"pharos\"\">,\n",
       "   <SchemaProperty \"pharmgkb\"\">,\n",
       "   <SchemaProperty \"symbol\"\">,\n",
       "   <SchemaProperty \"omim\"\">,\n",
       "   <SchemaProperty \"umls\"\">,\n",
       "   <SchemaProperty \"unigene\"\">,\n",
       "   <SchemaProperty \"geneticallyInteractsWith\"\">,\n",
       "   <SchemaProperty \"hasGeneProduct\"\">,\n",
       "   <SchemaProperty \"hasTranscript\"\">,\n",
       "   <SchemaProperty \"geneAssociatedWithCondition\"\">]},\n",
       " {'class': 'GeneOrGeneProduct',\n",
       "  'properties': [<SchemaProperty \"ensembl\"\">,\n",
       "   <SchemaProperty \"refseq\"\">,\n",
       "   <SchemaProperty \"metabolize\"\">,\n",
       "   <SchemaProperty \"targetedBy\"\">,\n",
       "   <SchemaProperty \"enablesMF\"\">,\n",
       "   <SchemaProperty \"involvedInBP\"\">,\n",
       "   <SchemaProperty \"involvedInPathway\"\">,\n",
       "   <SchemaProperty \"involvedInWikipathway\"\">,\n",
       "   <SchemaProperty \"involvedInReactomePathway\"\">,\n",
       "   <SchemaProperty \"hasHomolog\"\">,\n",
       "   <SchemaProperty \"orthologousTo\"\">,\n",
       "   <SchemaProperty \"hasProteinStructure\"\">,\n",
       "   <SchemaProperty \"inPathwayWith\"\">,\n",
       "   <SchemaProperty \"inComplexWith\"\">,\n",
       "   <SchemaProperty \"inCellPopulationWith\"\">,\n",
       "   <SchemaProperty \"expressedIn\"\">]},\n",
       " {'class': 'MacromolecularMachine', 'properties': []},\n",
       " {'class': 'GenomicEntity', 'properties': []},\n",
       " {'class': 'MolecularEntity',\n",
       "  'properties': [<SchemaProperty \"molecularlyInteractsWith\"\">,\n",
       "   <SchemaProperty \"affectsAbundanceOf\"\">,\n",
       "   <SchemaProperty \"increasesAbundanceOf\"\">,\n",
       "   <SchemaProperty \"decreasesAbundanceOf\"\">,\n",
       "   <SchemaProperty \"affectsActivityOf\"\">,\n",
       "   <SchemaProperty \"increasesActivityOf\"\">,\n",
       "   <SchemaProperty \"decreasesActivityOf\"\">,\n",
       "   <SchemaProperty \"affectsExpressionOf\"\">,\n",
       "   <SchemaProperty \"increasesExpressionOf\"\">,\n",
       "   <SchemaProperty \"decreasesExpressionOf\"\">,\n",
       "   <SchemaProperty \"affectsFoldingOf\"\">,\n",
       "   <SchemaProperty \"increasesFoldingOf\"\">,\n",
       "   <SchemaProperty \"decreasesFoldingOf\"\">,\n",
       "   <SchemaProperty \"affectsLocalizationOf\"\">,\n",
       "   <SchemaProperty \"increasesLocalizationOf\"\">,\n",
       "   <SchemaProperty \"decreasesLocalizationOf\"\">,\n",
       "   <SchemaProperty \"affectsMetabolicProcessingOf\"\">,\n",
       "   <SchemaProperty \"increasesMetabolicProcessingOf\"\">,\n",
       "   <SchemaProperty \"decreasesMetabolicProcessingOf\"\">,\n",
       "   <SchemaProperty \"affectsMolecularModificationOf\"\">,\n",
       "   <SchemaProperty \"increasesMolecularModificationOf\"\">,\n",
       "   <SchemaProperty \"decreasesMolecularModificationOf\"\">,\n",
       "   <SchemaProperty \"affectsSynthesisOf\"\">,\n",
       "   <SchemaProperty \"increasesSynthesisOf\"\">,\n",
       "   <SchemaProperty \"decreasesSynthesisOf\"\">,\n",
       "   <SchemaProperty \"affectsDegradationOf\"\">,\n",
       "   <SchemaProperty \"increasesDegradationOf\"\">,\n",
       "   <SchemaProperty \"decreasesDegradationOf\"\">,\n",
       "   <SchemaProperty \"affectsMutationRateOf\"\">,\n",
       "   <SchemaProperty \"increasesMutationRateOf\"\">,\n",
       "   <SchemaProperty \"decreasesMutationRateOf\"\">,\n",
       "   <SchemaProperty \"affectsResponseTo\"\">,\n",
       "   <SchemaProperty \"increasesResponseTo\"\">,\n",
       "   <SchemaProperty \"decreasesResponseTo\"\">,\n",
       "   <SchemaProperty \"affectsSplicingOf\"\">,\n",
       "   <SchemaProperty \"increasesSplicingOf\"\">,\n",
       "   <SchemaProperty \"decreasesSplicingOf\"\">,\n",
       "   <SchemaProperty \"affectsStabilityOf\"\">,\n",
       "   <SchemaProperty \"increasesStabilityOf\"\">,\n",
       "   <SchemaProperty \"decreasesStabilityOf\"\">,\n",
       "   <SchemaProperty \"affectsTransportOf\"\">,\n",
       "   <SchemaProperty \"increasesTransportOf\"\">,\n",
       "   <SchemaProperty \"decreasesTransportOf\"\">,\n",
       "   <SchemaProperty \"affectsSecretionOf\"\">,\n",
       "   <SchemaProperty \"increasesSecretionOf\"\">,\n",
       "   <SchemaProperty \"decreasesSecretionOf\"\">,\n",
       "   <SchemaProperty \"affectsUptakeOf\"\">,\n",
       "   <SchemaProperty \"increasesUptakeOf\"\">,\n",
       "   <SchemaProperty \"decreasesUptakeOf\"\">,\n",
       "   <SchemaProperty \"regulates,EntityToEntity\"\">,\n",
       "   <SchemaProperty \"biomarkerFor\"\">]},\n",
       " {'class': 'BiologicalEntity',\n",
       "  'properties': [<SchemaProperty \"hasPhenotype\"\">]},\n",
       " {'class': 'Thing',\n",
       "  'properties': [<SchemaProperty \"sameAs\"\">,\n",
       "   <SchemaProperty \"alternateName\"\">,\n",
       "   <SchemaProperty \"image\"\">,\n",
       "   <SchemaProperty \"additionalType\"\">,\n",
       "   <SchemaProperty \"name\"\">,\n",
       "   <SchemaProperty \"identifier\"\">,\n",
       "   <SchemaProperty \"subjectOf\"\">,\n",
       "   <SchemaProperty \"mainEntityOfPage\"\">,\n",
       "   <SchemaProperty \"url\"\">,\n",
       "   <SchemaProperty \"potentialAction\"\">,\n",
       "   <SchemaProperty \"description\"\">,\n",
       "   <SchemaProperty \"disambiguatingDescription\"\">]}]"
      ]
     },
     "execution_count": 10,
     "metadata": {},
     "output_type": "execute_result"
    }
   ],
   "source": [
    "# find all properties related to \"Gene\"\n",
    "scls = se.get_class(\"Gene\")\n",
    "scls.list_properties(class_specific=False)"
   ]
  },
  {
   "cell_type": "markdown",
   "metadata": {},
   "source": [
    "## Explore where a class is used"
   ]
  },
  {
   "cell_type": "code",
   "execution_count": 11,
   "metadata": {},
   "outputs": [
    {
     "data": {
      "text/plain": [
       "[{'property': <SchemaProperty \"affectsExpressionOf\"\">,\n",
       "  'property_used_on_class': <SchemaClass \"MolecularEntity\">,\n",
       "  'description': 'holds between two molecular entities where the action or effect of one changes the level of expression of the other within a system of interest'},\n",
       " {'property': <SchemaProperty \"increasesExpressionOf\"\">,\n",
       "  'property_used_on_class': <SchemaClass \"MolecularEntity\">,\n",
       "  'description': 'holds between two molecular entities where the action or effect of one increases the level of expression of the other within a system of interest'},\n",
       " {'property': <SchemaProperty \"decreasesExpressionOf\"\">,\n",
       "  'property_used_on_class': <SchemaClass \"MolecularEntity\">,\n",
       "  'description': 'holds between two molecular entities where the action or effect of one decreases the level of expression of the other within a system of interest'},\n",
       " {'property': <SchemaProperty \"affectsMutationRateOf\"\">,\n",
       "  'property_used_on_class': <SchemaClass \"MolecularEntity\">,\n",
       "  'description': 'holds between a molecular entity and a genomic entity where the action or effect of the molecular entity impacts the rate of mutation of the genomic entity within a system of interest'},\n",
       " {'property': <SchemaProperty \"increasesMutationRateOf\"\">,\n",
       "  'property_used_on_class': <SchemaClass \"MolecularEntity\">,\n",
       "  'description': 'holds between a molecular entity and a genomic entity where the action or effect of the molecular entity increases the rate of mutation of the genomic entity within a system of interest'},\n",
       " {'property': <SchemaProperty \"decreasesMutationRateOf\"\">,\n",
       "  'property_used_on_class': <SchemaClass \"MolecularEntity\">,\n",
       "  'description': 'holds between a molecular entity and a genomic entity where the action or effect of the molecular entity decreases the rate of mutation of the genomic entity within a system of interest'}]"
      ]
     },
     "execution_count": 11,
     "metadata": {},
     "output_type": "execute_result"
    }
   ],
   "source": [
    "# find where \"GenomicEntity\" class is used\n",
    "scls = se.get_class(\"GenomicEntity\")\n",
    "scls.used_by()"
   ]
  },
  {
   "cell_type": "markdown",
   "metadata": {},
   "source": [
    "## Explore all information related to the class"
   ]
  },
  {
   "cell_type": "markdown",
   "metadata": {},
   "source": [
    "Including:\n",
    "1. Related properties\n",
    "2. Parent classes\n",
    "3. Direct child classes\n",
    "4. Where the class is used"
   ]
  },
  {
   "cell_type": "code",
   "execution_count": 12,
   "metadata": {},
   "outputs": [
    {
     "data": {
      "text/plain": [
       "{'properties': [{'class': 'GenomicEntity', 'properties': []},\n",
       "  {'class': 'MolecularEntity',\n",
       "   'properties': [<SchemaProperty \"molecularlyInteractsWith\"\">,\n",
       "    <SchemaProperty \"affectsAbundanceOf\"\">,\n",
       "    <SchemaProperty \"increasesAbundanceOf\"\">,\n",
       "    <SchemaProperty \"decreasesAbundanceOf\"\">,\n",
       "    <SchemaProperty \"affectsActivityOf\"\">,\n",
       "    <SchemaProperty \"increasesActivityOf\"\">,\n",
       "    <SchemaProperty \"decreasesActivityOf\"\">,\n",
       "    <SchemaProperty \"affectsExpressionOf\"\">,\n",
       "    <SchemaProperty \"increasesExpressionOf\"\">,\n",
       "    <SchemaProperty \"decreasesExpressionOf\"\">,\n",
       "    <SchemaProperty \"affectsFoldingOf\"\">,\n",
       "    <SchemaProperty \"increasesFoldingOf\"\">,\n",
       "    <SchemaProperty \"decreasesFoldingOf\"\">,\n",
       "    <SchemaProperty \"affectsLocalizationOf\"\">,\n",
       "    <SchemaProperty \"increasesLocalizationOf\"\">,\n",
       "    <SchemaProperty \"decreasesLocalizationOf\"\">,\n",
       "    <SchemaProperty \"affectsMetabolicProcessingOf\"\">,\n",
       "    <SchemaProperty \"increasesMetabolicProcessingOf\"\">,\n",
       "    <SchemaProperty \"decreasesMetabolicProcessingOf\"\">,\n",
       "    <SchemaProperty \"affectsMolecularModificationOf\"\">,\n",
       "    <SchemaProperty \"increasesMolecularModificationOf\"\">,\n",
       "    <SchemaProperty \"decreasesMolecularModificationOf\"\">,\n",
       "    <SchemaProperty \"affectsSynthesisOf\"\">,\n",
       "    <SchemaProperty \"increasesSynthesisOf\"\">,\n",
       "    <SchemaProperty \"decreasesSynthesisOf\"\">,\n",
       "    <SchemaProperty \"affectsDegradationOf\"\">,\n",
       "    <SchemaProperty \"increasesDegradationOf\"\">,\n",
       "    <SchemaProperty \"decreasesDegradationOf\"\">,\n",
       "    <SchemaProperty \"affectsMutationRateOf\"\">,\n",
       "    <SchemaProperty \"increasesMutationRateOf\"\">,\n",
       "    <SchemaProperty \"decreasesMutationRateOf\"\">,\n",
       "    <SchemaProperty \"affectsResponseTo\"\">,\n",
       "    <SchemaProperty \"increasesResponseTo\"\">,\n",
       "    <SchemaProperty \"decreasesResponseTo\"\">,\n",
       "    <SchemaProperty \"affectsSplicingOf\"\">,\n",
       "    <SchemaProperty \"increasesSplicingOf\"\">,\n",
       "    <SchemaProperty \"decreasesSplicingOf\"\">,\n",
       "    <SchemaProperty \"affectsStabilityOf\"\">,\n",
       "    <SchemaProperty \"increasesStabilityOf\"\">,\n",
       "    <SchemaProperty \"decreasesStabilityOf\"\">,\n",
       "    <SchemaProperty \"affectsTransportOf\"\">,\n",
       "    <SchemaProperty \"increasesTransportOf\"\">,\n",
       "    <SchemaProperty \"decreasesTransportOf\"\">,\n",
       "    <SchemaProperty \"affectsSecretionOf\"\">,\n",
       "    <SchemaProperty \"increasesSecretionOf\"\">,\n",
       "    <SchemaProperty \"decreasesSecretionOf\"\">,\n",
       "    <SchemaProperty \"affectsUptakeOf\"\">,\n",
       "    <SchemaProperty \"increasesUptakeOf\"\">,\n",
       "    <SchemaProperty \"decreasesUptakeOf\"\">,\n",
       "    <SchemaProperty \"regulates,EntityToEntity\"\">,\n",
       "    <SchemaProperty \"biomarkerFor\"\">]},\n",
       "  {'class': 'BiologicalEntity',\n",
       "   'properties': [<SchemaProperty \"hasPhenotype\"\">]},\n",
       "  {'class': 'Thing',\n",
       "   'properties': [<SchemaProperty \"sameAs\"\">,\n",
       "    <SchemaProperty \"alternateName\"\">,\n",
       "    <SchemaProperty \"image\"\">,\n",
       "    <SchemaProperty \"additionalType\"\">,\n",
       "    <SchemaProperty \"name\"\">,\n",
       "    <SchemaProperty \"identifier\"\">,\n",
       "    <SchemaProperty \"subjectOf\"\">,\n",
       "    <SchemaProperty \"mainEntityOfPage\"\">,\n",
       "    <SchemaProperty \"url\"\">,\n",
       "    <SchemaProperty \"potentialAction\"\">,\n",
       "    <SchemaProperty \"description\"\">,\n",
       "    <SchemaProperty \"disambiguatingDescription\"\">]}],\n",
       " 'description': 'an entity that can either be directly located on a genome (gene, transcript, exon, regulatory region) or is encoded in a genome (protein)',\n",
       " 'uri': 'http://schema.biothings.io/GenomicEntity',\n",
       " 'usage': [{'property': <SchemaProperty \"affectsExpressionOf\"\">,\n",
       "   'property_used_on_class': <SchemaClass \"MolecularEntity\">,\n",
       "   'description': 'holds between two molecular entities where the action or effect of one changes the level of expression of the other within a system of interest'},\n",
       "  {'property': <SchemaProperty \"increasesExpressionOf\"\">,\n",
       "   'property_used_on_class': <SchemaClass \"MolecularEntity\">,\n",
       "   'description': 'holds between two molecular entities where the action or effect of one increases the level of expression of the other within a system of interest'},\n",
       "  {'property': <SchemaProperty \"decreasesExpressionOf\"\">,\n",
       "   'property_used_on_class': <SchemaClass \"MolecularEntity\">,\n",
       "   'description': 'holds between two molecular entities where the action or effect of one decreases the level of expression of the other within a system of interest'},\n",
       "  {'property': <SchemaProperty \"affectsMutationRateOf\"\">,\n",
       "   'property_used_on_class': <SchemaClass \"MolecularEntity\">,\n",
       "   'description': 'holds between a molecular entity and a genomic entity where the action or effect of the molecular entity impacts the rate of mutation of the genomic entity within a system of interest'},\n",
       "  {'property': <SchemaProperty \"increasesMutationRateOf\"\">,\n",
       "   'property_used_on_class': <SchemaClass \"MolecularEntity\">,\n",
       "   'description': 'holds between a molecular entity and a genomic entity where the action or effect of the molecular entity increases the rate of mutation of the genomic entity within a system of interest'},\n",
       "  {'property': <SchemaProperty \"decreasesMutationRateOf\"\">,\n",
       "   'property_used_on_class': <SchemaClass \"MolecularEntity\">,\n",
       "   'description': 'holds between a molecular entity and a genomic entity where the action or effect of the molecular entity decreases the rate of mutation of the genomic entity within a system of interest'}],\n",
       " 'child_classes': [<SchemaClass \"Genome\">,\n",
       "  <SchemaClass \"Transcript\">,\n",
       "  <SchemaClass \"Exon\">,\n",
       "  <SchemaClass \"CodingSequence\">,\n",
       "  <SchemaClass \"MacromolecularMachine\">,\n",
       "  <SchemaClass \"Genotype\">,\n",
       "  <SchemaClass \"Haplotype\">,\n",
       "  <SchemaClass \"SequenceVariant\">],\n",
       " 'parent_classes': [[<SchemaClass \"Thing\">,\n",
       "   <SchemaClass \"BiologicalEntity\">,\n",
       "   <SchemaClass \"MolecularEntity\">]]}"
      ]
     },
     "execution_count": 12,
     "metadata": {},
     "output_type": "execute_result"
    }
   ],
   "source": [
    "# explore all information related to \"GenomicEntity\" class\n",
    "scls = se.get_class(\"GenomicEntity\")\n",
    "scls.describe()"
   ]
  },
  {
   "cell_type": "markdown",
   "metadata": {},
   "source": [
    "## Find all parents of a specific property"
   ]
  },
  {
   "cell_type": "code",
   "execution_count": 13,
   "metadata": {},
   "outputs": [
    {
     "data": {
      "text/plain": [
       "[<SchemaProperty \"identifier\"\">]"
      ]
     },
     "execution_count": 13,
     "metadata": {},
     "output_type": "execute_result"
    }
   ],
   "source": [
    "# find parents of \"ensembl\" property\n",
    "sp = se.get_property(\"ensembl\")\n",
    "sp.parent_properties"
   ]
  },
  {
   "cell_type": "markdown",
   "metadata": {},
   "source": [
    "## Find all children of a specific property"
   ]
  },
  {
   "cell_type": "code",
   "execution_count": 14,
   "metadata": {},
   "outputs": [
    {
     "data": {
      "text/plain": [
       "[<SchemaProperty \"ensembl\"\">,\n",
       " <SchemaProperty \"hgnc\"\">,\n",
       " <SchemaProperty \"mgi\"\">,\n",
       " <SchemaProperty \"rgd\"\">,\n",
       " <SchemaProperty \"zfin\"\">,\n",
       " <SchemaProperty \"flybase\"\">,\n",
       " <SchemaProperty \"sgd\"\">,\n",
       " <SchemaProperty \"pombase\"\">,\n",
       " <SchemaProperty \"dictybase\"\">,\n",
       " <SchemaProperty \"tair\"\">,\n",
       " <SchemaProperty \"entrez\"\">,\n",
       " <SchemaProperty \"pharos\"\">,\n",
       " <SchemaProperty \"pharmgkb\"\">,\n",
       " <SchemaProperty \"symbol\"\">,\n",
       " <SchemaProperty \"uniprot\"\">,\n",
       " <SchemaProperty \"refseq\"\">,\n",
       " <SchemaProperty \"omim\"\">,\n",
       " <SchemaProperty \"umls\"\">,\n",
       " <SchemaProperty \"unigene\"\">,\n",
       " <SchemaProperty \"inchi\"\">,\n",
       " <SchemaProperty \"inchikey\"\">,\n",
       " <SchemaProperty \"rxcui\"\">,\n",
       " <SchemaProperty \"smiles\"\">,\n",
       " <SchemaProperty \"pubchem\"\">,\n",
       " <SchemaProperty \"chembl\"\">,\n",
       " <SchemaProperty \"drugbank\"\">,\n",
       " <SchemaProperty \"unii\"\">,\n",
       " <SchemaProperty \"isbn\"\">,\n",
       " <SchemaProperty \"sku\"\">,\n",
       " <SchemaProperty \"serialNumber\"\">,\n",
       " <SchemaProperty \"orderNumber\"\">,\n",
       " <SchemaProperty \"gtin8\"\">,\n",
       " <SchemaProperty \"flightNumber\"\">,\n",
       " <SchemaProperty \"globalLocationNumber\"\">,\n",
       " <SchemaProperty \"confirmationNumber\"\">,\n",
       " <SchemaProperty \"duns\"\">,\n",
       " <SchemaProperty \"taxID\"\">,\n",
       " <SchemaProperty \"issn\"\">,\n",
       " <SchemaProperty \"gtin14\"\">,\n",
       " <SchemaProperty \"gtin13\"\">,\n",
       " <SchemaProperty \"gtin12\"\">,\n",
       " <SchemaProperty \"productID\"\">,\n",
       " <SchemaProperty \"accountId\"\">,\n",
       " <SchemaProperty \"leiCode\"\">]"
      ]
     },
     "execution_count": 14,
     "metadata": {},
     "output_type": "execute_result"
    }
   ],
   "source": [
    "# find parents of \"identifier\" property\n",
    "sp = se.get_property(\"identifier\")\n",
    "sp.child_properties"
   ]
  },
  {
   "cell_type": "markdown",
   "metadata": {},
   "source": [
    "## Find property description"
   ]
  },
  {
   "cell_type": "code",
   "execution_count": 15,
   "metadata": {},
   "outputs": [
    {
     "data": {
      "text/plain": [
       "'Ensembl ID for gene, protein or transcript'"
      ]
     },
     "execution_count": 15,
     "metadata": {},
     "output_type": "execute_result"
    }
   ],
   "source": [
    "# description of \"ensembl\" property\n",
    "sp = se.get_property(\"ensembl\")\n",
    "sp.description"
   ]
  },
  {
   "cell_type": "markdown",
   "metadata": {},
   "source": [
    "## Explore information about a property"
   ]
  },
  {
   "cell_type": "markdown",
   "metadata": {},
   "source": [
    "Includes:\n",
    "1. ID\n",
    "2. Description\n",
    "3. Domain (which class(es) use this property)\n",
    "4. Range (the value type)\n",
    "5. Parent properties\n",
    "6. Child properties"
   ]
  },
  {
   "cell_type": "code",
   "execution_count": 16,
   "metadata": {},
   "outputs": [
    {
     "data": {
      "text/plain": [
       "{'child_properties': [],\n",
       " 'descendant_properties': [],\n",
       " 'parent_properties': [<SchemaProperty \"identifier\"\">],\n",
       " 'id': 'ensembl',\n",
       " 'description': 'Ensembl ID for gene, protein or transcript',\n",
       " 'domain': [<SchemaClass \"GeneOrGeneProduct\">, <SchemaClass \"Transcript\">],\n",
       " 'range': <SchemaClass \"Text\">}"
      ]
     },
     "execution_count": 16,
     "metadata": {},
     "output_type": "execute_result"
    }
   ],
   "source": [
    "# explore \"ensembl\" property\n",
    "sp = se.get_property(\"ensembl\")\n",
    "sp.describe()"
   ]
  }
 ],
 "metadata": {
  "kernelspec": {
   "display_name": "Python 3",
   "language": "python",
   "name": "python3"
  },
  "language_info": {
   "codemirror_mode": {
    "name": "ipython",
    "version": 3
   },
   "file_extension": ".py",
   "mimetype": "text/x-python",
   "name": "python",
   "nbconvert_exporter": "python",
   "pygments_lexer": "ipython3",
   "version": "3.7.3"
  }
 },
 "nbformat": 4,
 "nbformat_minor": 2
}
