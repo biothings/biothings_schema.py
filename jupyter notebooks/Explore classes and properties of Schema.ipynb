{
 "cells": [
  {
   "cell_type": "markdown",
   "metadata": {},
   "source": [
    "# How to use biothings_schema package to explorer classes and properties"
   ]
  },
  {
   "cell_type": "code",
   "execution_count": 1,
   "metadata": {},
   "outputs": [],
   "source": [
    "# load python package\n",
    "from biothings_schema import Schema"
   ]
  },
  {
   "cell_type": "code",
   "execution_count": 2,
   "metadata": {},
   "outputs": [],
   "source": [
    "# load schema\n",
    "se = Schema(\"https://raw.githubusercontent.com/data2health/schemas/biothings/biothings/biothings_curie_kevin.jsonld\")"
   ]
  },
  {
   "cell_type": "markdown",
   "metadata": {},
   "source": [
    "## Find all classes defined in the Schema"
   ]
  },
  {
   "cell_type": "code",
   "execution_count": 3,
   "metadata": {},
   "outputs": [
    {
     "data": {
      "text/plain": [
       "['BiologicalEntity',\n",
       " 'Thing',\n",
       " 'OntologyClass',\n",
       " 'RelationshipType',\n",
       " 'GeneOntologyClass',\n",
       " 'OrganismTaxon',\n",
       " 'OrganismalEntity',\n",
       " 'IndividualOrganism',\n",
       " 'Case',\n",
       " 'PopulationOfIndividualOrganisms',\n",
       " 'Biosample',\n",
       " 'DiseaseOrPhenotypicFeature',\n",
       " 'Disease',\n",
       " 'PhenotypicFeature',\n",
       " 'Environment',\n",
       " 'InformationContentEntity',\n",
       " 'ConfidenceLevel',\n",
       " 'EvidenceType',\n",
       " 'Publication',\n",
       " 'MolecularEntity',\n",
       " 'ChemicalSubstance',\n",
       " 'Drug',\n",
       " 'Metabolite',\n",
       " 'AnatomicalEntity',\n",
       " 'LifeStage',\n",
       " 'PlanetaryEntity',\n",
       " 'EnvironmentalProcess',\n",
       " 'EnvironmentalFeature',\n",
       " 'ClinicalEntity',\n",
       " 'ClinicalTrial',\n",
       " 'ClinicalIntervention',\n",
       " 'Device',\n",
       " 'GenomicEntity',\n",
       " 'Genome',\n",
       " 'Transcript',\n",
       " 'Exon',\n",
       " 'CodingSequence',\n",
       " 'MacromolecularMachine',\n",
       " 'GeneOrGeneProduct',\n",
       " 'Gene',\n",
       " 'GeneProduct',\n",
       " 'Protein',\n",
       " 'GeneProductIsoform',\n",
       " 'ProteinIsoform',\n",
       " 'RnaProduct',\n",
       " 'RnaProductIsoform',\n",
       " 'NoncodingRnaProduct',\n",
       " 'Microrna',\n",
       " 'MacromolecularComplex',\n",
       " 'GeneFamily',\n",
       " 'Genotype',\n",
       " 'Haplotype',\n",
       " 'SequenceVariant',\n",
       " 'DrugExposure',\n",
       " 'Treatment',\n",
       " 'GeographicLocation',\n",
       " 'GeographicLocationAtTime',\n",
       " 'Occurrent',\n",
       " 'BiologicalProcessOrActivity',\n",
       " 'MolecularActivity',\n",
       " 'ActivityAndBehavior',\n",
       " 'Procedure',\n",
       " 'Phenomenon',\n",
       " 'BiologicalProcess',\n",
       " 'Pathway',\n",
       " 'Wikipathway',\n",
       " 'ReactomePathway',\n",
       " 'PhysiologicalProcess',\n",
       " 'CellularComponent',\n",
       " 'Cell',\n",
       " 'CellLine',\n",
       " 'GrossAnatomicalStructure',\n",
       " 'ProteinStructure']"
      ]
     },
     "execution_count": 3,
     "metadata": {},
     "output_type": "execute_result"
    }
   ],
   "source": [
    "se.list_all_classes()"
   ]
  },
  {
   "cell_type": "markdown",
   "metadata": {},
   "source": [
    "## Find all parents of a specific class"
   ]
  },
  {
   "cell_type": "code",
   "execution_count": 4,
   "metadata": {},
   "outputs": [
    {
     "data": {
      "text/plain": [
       "[['Thing',\n",
       "  'BiologicalEntity',\n",
       "  'MolecularEntity',\n",
       "  'GenomicEntity',\n",
       "  'MacromolecularMachine',\n",
       "  'GeneOrGeneProduct']]"
      ]
     },
     "execution_count": 4,
     "metadata": {},
     "output_type": "execute_result"
    }
   ],
   "source": [
    "# find parents of \"Gene\" class\n",
    "scls = se.get_class(\"Gene\")\n",
    "scls.parent_classes"
   ]
  },
  {
   "cell_type": "markdown",
   "metadata": {},
   "source": [
    "## Find all direct children of a specific class"
   ]
  },
  {
   "cell_type": "code",
   "execution_count": 5,
   "metadata": {},
   "outputs": [
    {
     "data": {
      "text/plain": [
       "['ChemicalSubstance', 'GenomicEntity', 'GeneFamily']"
      ]
     },
     "execution_count": 5,
     "metadata": {},
     "output_type": "execute_result"
    }
   ],
   "source": [
    "# find direct children of \"MolecularEntity\" class\n",
    "scls = se.get_class(\"MolecularEntity\")\n",
    "scls.children_classes"
   ]
  },
  {
   "cell_type": "markdown",
   "metadata": {},
   "source": [
    "# Find all descendants of a specific class"
   ]
  },
  {
   "cell_type": "code",
   "execution_count": 7,
   "metadata": {},
   "outputs": [
    {
     "data": {
      "text/plain": [
       "['GenomicEntity',\n",
       " 'Exon',\n",
       " 'ProteinIsoform',\n",
       " 'RnaProduct',\n",
       " 'MacromolecularComplex',\n",
       " 'GeneFamily',\n",
       " 'Haplotype',\n",
       " 'NoncodingRnaProduct',\n",
       " 'CodingSequence',\n",
       " 'Transcript',\n",
       " 'Protein',\n",
       " 'GeneOrGeneProduct',\n",
       " 'GeneProductIsoform',\n",
       " 'Drug',\n",
       " 'Genotype',\n",
       " 'ChemicalSubstance',\n",
       " 'Genome',\n",
       " 'GeneProduct',\n",
       " 'MacromolecularMachine',\n",
       " 'Gene',\n",
       " 'RnaProductIsoform',\n",
       " 'Microrna',\n",
       " 'Metabolite',\n",
       " 'SequenceVariant']"
      ]
     },
     "execution_count": 7,
     "metadata": {},
     "output_type": "execute_result"
    }
   ],
   "source": [
    "# find descendants of \"MolecularEntity\" class\n",
    "scls = se.get_class(\"MolecularEntity\")\n",
    "scls.descendant_classes"
   ]
  },
  {
   "cell_type": "markdown",
   "metadata": {},
   "source": [
    "## Find properties specifically defined for a class"
   ]
  },
  {
   "cell_type": "code",
   "execution_count": 8,
   "metadata": {},
   "outputs": [
    {
     "data": {
      "text/plain": [
       "[{'class': 'Gene',\n",
       "  'properties': ['hgnc',\n",
       "   'mgi',\n",
       "   'rgd',\n",
       "   'zfin',\n",
       "   'flybase',\n",
       "   'sgd',\n",
       "   'pombase',\n",
       "   'dictybase',\n",
       "   'tair',\n",
       "   'inTaxon',\n",
       "   'entrez',\n",
       "   'pharos',\n",
       "   'pharmgkb',\n",
       "   'symbol',\n",
       "   'omim',\n",
       "   'umls',\n",
       "   'unigene',\n",
       "   'geneticallyInteractsWith',\n",
       "   'hasGeneProduct',\n",
       "   'hasTranscript',\n",
       "   'geneAssociatedWithCondition']}]"
      ]
     },
     "execution_count": 8,
     "metadata": {},
     "output_type": "execute_result"
    }
   ],
   "source": [
    "# find properties specifically defined for \"Gene\" class\n",
    "scls = se.get_class(\"Gene\")\n",
    "scls.list_properties()"
   ]
  },
  {
   "cell_type": "markdown",
   "metadata": {},
   "source": [
    "## Find all properties related to a class (including the parents' properties)"
   ]
  },
  {
   "cell_type": "code",
   "execution_count": 9,
   "metadata": {},
   "outputs": [
    {
     "data": {
      "text/plain": [
       "[{'class': 'Gene',\n",
       "  'properties': ['hgnc',\n",
       "   'mgi',\n",
       "   'rgd',\n",
       "   'zfin',\n",
       "   'flybase',\n",
       "   'sgd',\n",
       "   'pombase',\n",
       "   'dictybase',\n",
       "   'tair',\n",
       "   'inTaxon',\n",
       "   'entrez',\n",
       "   'pharos',\n",
       "   'pharmgkb',\n",
       "   'symbol',\n",
       "   'omim',\n",
       "   'umls',\n",
       "   'unigene',\n",
       "   'geneticallyInteractsWith',\n",
       "   'hasGeneProduct',\n",
       "   'hasTranscript',\n",
       "   'geneAssociatedWithCondition']},\n",
       " {'class': 'GeneOrGeneProduct',\n",
       "  'properties': ['ensembl',\n",
       "   'refseq',\n",
       "   'metabolize',\n",
       "   'targetedBy',\n",
       "   'enablesMF',\n",
       "   'involvedInBP',\n",
       "   'involvedInPathway',\n",
       "   'involvedInWikipathway',\n",
       "   'involvedInReactomePathway',\n",
       "   'hasHomolog',\n",
       "   'orthologousTo',\n",
       "   'hasProteinStructure',\n",
       "   'inPathwayWith',\n",
       "   'inComplexWith',\n",
       "   'inCellPopulationWith',\n",
       "   'expressedIn']},\n",
       " {'class': 'MacromolecularMachine', 'properties': []},\n",
       " {'class': 'GenomicEntity', 'properties': []},\n",
       " {'class': 'MolecularEntity',\n",
       "  'properties': ['molecularlyInteractsWith',\n",
       "   'affectsAbundanceOf',\n",
       "   'increasesAbundanceOf',\n",
       "   'decreasesAbundanceOf',\n",
       "   'affectsActivityOf',\n",
       "   'increasesActivityOf',\n",
       "   'decreasesActivityOf',\n",
       "   'affectsExpressionOf',\n",
       "   'increasesExpressionOf',\n",
       "   'decreasesExpressionOf',\n",
       "   'affectsFoldingOf',\n",
       "   'increasesFoldingOf',\n",
       "   'decreasesFoldingOf',\n",
       "   'affectsLocalizationOf',\n",
       "   'increasesLocalizationOf',\n",
       "   'decreasesLocalizationOf',\n",
       "   'affectsMetabolicProcessingOf',\n",
       "   'increasesMetabolicProcessingOf',\n",
       "   'decreasesMetabolicProcessingOf',\n",
       "   'affectsMolecularModificationOf',\n",
       "   'increasesMolecularModificationOf',\n",
       "   'decreasesMolecularModificationOf',\n",
       "   'affectsSynthesisOf',\n",
       "   'increasesSynthesisOf',\n",
       "   'decreasesSynthesisOf',\n",
       "   'affectsDegradationOf',\n",
       "   'increasesDegradationOf',\n",
       "   'decreasesDegradationOf',\n",
       "   'affectsMutationRateOf',\n",
       "   'increasesMutationRateOf',\n",
       "   'decreasesMutationRateOf',\n",
       "   'affectsResponseTo',\n",
       "   'increasesResponseTo',\n",
       "   'decreasesResponseTo',\n",
       "   'affectsSplicingOf',\n",
       "   'increasesSplicingOf',\n",
       "   'decreasesSplicingOf',\n",
       "   'affectsStabilityOf',\n",
       "   'increasesStabilityOf',\n",
       "   'decreasesStabilityOf',\n",
       "   'affectsTransportOf',\n",
       "   'increasesTransportOf',\n",
       "   'decreasesTransportOf',\n",
       "   'affectsSecretionOf',\n",
       "   'increasesSecretionOf',\n",
       "   'decreasesSecretionOf',\n",
       "   'affectsUptakeOf',\n",
       "   'increasesUptakeOf',\n",
       "   'decreasesUptakeOf',\n",
       "   'regulates,EntityToEntity',\n",
       "   'biomarkerFor']},\n",
       " {'class': 'BiologicalEntity', 'properties': ['hasPhenotype']},\n",
       " {'class': 'Thing',\n",
       "  'properties': ['sameAs',\n",
       "   'alternateName',\n",
       "   'image',\n",
       "   'additionalType',\n",
       "   'name',\n",
       "   'identifier',\n",
       "   'subjectOf',\n",
       "   'mainEntityOfPage',\n",
       "   'url',\n",
       "   'potentialAction',\n",
       "   'description',\n",
       "   'disambiguatingDescription']}]"
      ]
     },
     "execution_count": 9,
     "metadata": {},
     "output_type": "execute_result"
    }
   ],
   "source": [
    "# find all properties related to \"Gene\"\n",
    "scls = se.get_class(\"Gene\")\n",
    "scls.list_properties(class_specific=False)"
   ]
  },
  {
   "cell_type": "markdown",
   "metadata": {},
   "source": [
    "## Explore where a class is used"
   ]
  },
  {
   "cell_type": "code",
   "execution_count": 10,
   "metadata": {},
   "outputs": [
    {
     "data": {
      "text/plain": [
       "[{'property': 'affectsExpressionOf',\n",
       "  'property_used_on_class': 'MolecularEntity',\n",
       "  'description': 'holds between two molecular entities where the action or effect of one changes the level of expression of the other within a system of interest'},\n",
       " {'property': 'increasesExpressionOf',\n",
       "  'property_used_on_class': 'MolecularEntity',\n",
       "  'description': 'holds between two molecular entities where the action or effect of one increases the level of expression of the other within a system of interest'},\n",
       " {'property': 'decreasesExpressionOf',\n",
       "  'property_used_on_class': 'MolecularEntity',\n",
       "  'description': 'holds between two molecular entities where the action or effect of one decreases the level of expression of the other within a system of interest'},\n",
       " {'property': 'affectsMutationRateOf',\n",
       "  'property_used_on_class': 'MolecularEntity',\n",
       "  'description': 'holds between a molecular entity and a genomic entity where the action or effect of the molecular entity impacts the rate of mutation of the genomic entity within a system of interest'},\n",
       " {'property': 'increasesMutationRateOf',\n",
       "  'property_used_on_class': 'MolecularEntity',\n",
       "  'description': 'holds between a molecular entity and a genomic entity where the action or effect of the molecular entity increases the rate of mutation of the genomic entity within a system of interest'},\n",
       " {'property': 'decreasesMutationRateOf',\n",
       "  'property_used_on_class': 'MolecularEntity',\n",
       "  'description': 'holds between a molecular entity and a genomic entity where the action or effect of the molecular entity decreases the rate of mutation of the genomic entity within a system of interest'}]"
      ]
     },
     "execution_count": 10,
     "metadata": {},
     "output_type": "execute_result"
    }
   ],
   "source": [
    "# find where \"GenomicEntity\" class is used\n",
    "scls = se.get_class(\"GenomicEntity\")\n",
    "scls.used_by()"
   ]
  },
  {
   "cell_type": "markdown",
   "metadata": {},
   "source": [
    "## Explore all information related to the class"
   ]
  },
  {
   "cell_type": "markdown",
   "metadata": {},
   "source": [
    "Including:\n",
    "1. Related properties\n",
    "2. Parent classes\n",
    "3. Direct child classes\n",
    "4. Where the class is used"
   ]
  },
  {
   "cell_type": "code",
   "execution_count": 11,
   "metadata": {},
   "outputs": [
    {
     "data": {
      "text/plain": [
       "{'properties': [{'class': 'GenomicEntity', 'properties': []},\n",
       "  {'class': 'MolecularEntity',\n",
       "   'properties': ['molecularlyInteractsWith',\n",
       "    'affectsAbundanceOf',\n",
       "    'increasesAbundanceOf',\n",
       "    'decreasesAbundanceOf',\n",
       "    'affectsActivityOf',\n",
       "    'increasesActivityOf',\n",
       "    'decreasesActivityOf',\n",
       "    'affectsExpressionOf',\n",
       "    'increasesExpressionOf',\n",
       "    'decreasesExpressionOf',\n",
       "    'affectsFoldingOf',\n",
       "    'increasesFoldingOf',\n",
       "    'decreasesFoldingOf',\n",
       "    'affectsLocalizationOf',\n",
       "    'increasesLocalizationOf',\n",
       "    'decreasesLocalizationOf',\n",
       "    'affectsMetabolicProcessingOf',\n",
       "    'increasesMetabolicProcessingOf',\n",
       "    'decreasesMetabolicProcessingOf',\n",
       "    'affectsMolecularModificationOf',\n",
       "    'increasesMolecularModificationOf',\n",
       "    'decreasesMolecularModificationOf',\n",
       "    'affectsSynthesisOf',\n",
       "    'increasesSynthesisOf',\n",
       "    'decreasesSynthesisOf',\n",
       "    'affectsDegradationOf',\n",
       "    'increasesDegradationOf',\n",
       "    'decreasesDegradationOf',\n",
       "    'affectsMutationRateOf',\n",
       "    'increasesMutationRateOf',\n",
       "    'decreasesMutationRateOf',\n",
       "    'affectsResponseTo',\n",
       "    'increasesResponseTo',\n",
       "    'decreasesResponseTo',\n",
       "    'affectsSplicingOf',\n",
       "    'increasesSplicingOf',\n",
       "    'decreasesSplicingOf',\n",
       "    'affectsStabilityOf',\n",
       "    'increasesStabilityOf',\n",
       "    'decreasesStabilityOf',\n",
       "    'affectsTransportOf',\n",
       "    'increasesTransportOf',\n",
       "    'decreasesTransportOf',\n",
       "    'affectsSecretionOf',\n",
       "    'increasesSecretionOf',\n",
       "    'decreasesSecretionOf',\n",
       "    'affectsUptakeOf',\n",
       "    'increasesUptakeOf',\n",
       "    'decreasesUptakeOf',\n",
       "    'regulates,EntityToEntity',\n",
       "    'biomarkerFor']},\n",
       "  {'class': 'BiologicalEntity', 'properties': ['hasPhenotype']},\n",
       "  {'class': 'Thing',\n",
       "   'properties': ['sameAs',\n",
       "    'alternateName',\n",
       "    'image',\n",
       "    'additionalType',\n",
       "    'name',\n",
       "    'identifier',\n",
       "    'subjectOf',\n",
       "    'mainEntityOfPage',\n",
       "    'url',\n",
       "    'potentialAction',\n",
       "    'description',\n",
       "    'disambiguatingDescription']}],\n",
       " 'description': 'an entity that can either be directly located on a genome (gene, transcript, exon, regulatory region) or is encoded in a genome (protein)',\n",
       " 'uri': 'http://schema.biothings.io/GenomicEntity',\n",
       " 'usage': [{'property': 'affectsExpressionOf',\n",
       "   'property_used_on_class': 'MolecularEntity',\n",
       "   'description': 'holds between two molecular entities where the action or effect of one changes the level of expression of the other within a system of interest'},\n",
       "  {'property': 'increasesExpressionOf',\n",
       "   'property_used_on_class': 'MolecularEntity',\n",
       "   'description': 'holds between two molecular entities where the action or effect of one increases the level of expression of the other within a system of interest'},\n",
       "  {'property': 'decreasesExpressionOf',\n",
       "   'property_used_on_class': 'MolecularEntity',\n",
       "   'description': 'holds between two molecular entities where the action or effect of one decreases the level of expression of the other within a system of interest'},\n",
       "  {'property': 'affectsMutationRateOf',\n",
       "   'property_used_on_class': 'MolecularEntity',\n",
       "   'description': 'holds between a molecular entity and a genomic entity where the action or effect of the molecular entity impacts the rate of mutation of the genomic entity within a system of interest'},\n",
       "  {'property': 'increasesMutationRateOf',\n",
       "   'property_used_on_class': 'MolecularEntity',\n",
       "   'description': 'holds between a molecular entity and a genomic entity where the action or effect of the molecular entity increases the rate of mutation of the genomic entity within a system of interest'},\n",
       "  {'property': 'decreasesMutationRateOf',\n",
       "   'property_used_on_class': 'MolecularEntity',\n",
       "   'description': 'holds between a molecular entity and a genomic entity where the action or effect of the molecular entity decreases the rate of mutation of the genomic entity within a system of interest'}],\n",
       " 'children_classes': ['Genome',\n",
       "  'Transcript',\n",
       "  'Exon',\n",
       "  'CodingSequence',\n",
       "  'MacromolecularMachine',\n",
       "  'Genotype',\n",
       "  'Haplotype',\n",
       "  'SequenceVariant'],\n",
       " 'parent_classes': [['Thing', 'BiologicalEntity', 'MolecularEntity']]}"
      ]
     },
     "execution_count": 11,
     "metadata": {},
     "output_type": "execute_result"
    }
   ],
   "source": [
    "# explore all information related to \"GenomicEntity\" class\n",
    "scls = se.get_class(\"GenomicEntity\")\n",
    "scls.describe()"
   ]
  },
  {
   "cell_type": "markdown",
   "metadata": {},
   "source": [
    "## Explore information about a property"
   ]
  },
  {
   "cell_type": "markdown",
   "metadata": {},
   "source": [
    "Includes:\n",
    "1. ID\n",
    "2. Description\n",
    "3. Domain (which class(es) use this property)\n",
    "4. Range (the value type)"
   ]
  },
  {
   "cell_type": "code",
   "execution_count": 12,
   "metadata": {},
   "outputs": [
    {
     "data": {
      "text/plain": [
       "{'id': 'affectsExpressionOf',\n",
       " 'description': 'holds between two molecular entities where the action or effect of one changes the level of expression of the other within a system of interest',\n",
       " 'domain': 'MolecularEntity',\n",
       " 'range': 'GenomicEntity'}"
      ]
     },
     "execution_count": 12,
     "metadata": {},
     "output_type": "execute_result"
    }
   ],
   "source": [
    "# explore \"affectsExpressionOf\" class\n",
    "se.explore_property(\"affectsExpressionOf\")"
   ]
  }
 ],
 "metadata": {
  "kernelspec": {
   "display_name": "Python 3",
   "language": "python",
   "name": "python3"
  },
  "language_info": {
   "codemirror_mode": {
    "name": "ipython",
    "version": 3
   },
   "file_extension": ".py",
   "mimetype": "text/x-python",
   "name": "python",
   "nbconvert_exporter": "python",
   "pygments_lexer": "ipython3",
   "version": "3.7.3"
  }
 },
 "nbformat": 4,
 "nbformat_minor": 2
}
