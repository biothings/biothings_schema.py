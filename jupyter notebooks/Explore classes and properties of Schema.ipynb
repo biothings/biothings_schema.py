{
 "cells": [
  {
   "cell_type": "markdown",
   "metadata": {},
   "source": [
    "# How to use biothings_schema package to explorer classes and properties"
   ]
  },
  {
   "cell_type": "code",
   "execution_count": 1,
   "metadata": {},
   "outputs": [],
   "source": [
    "# load python package\n",
    "from biothings_schema import Schema"
   ]
  },
  {
   "cell_type": "code",
   "execution_count": 2,
   "metadata": {},
   "outputs": [],
   "source": [
    "# load schema\n",
    "se = Schema(\"https://raw.githubusercontent.com/data2health/schemas/biothings/biothings/biothings_curie_kevin.jsonld\")"
   ]
  },
  {
   "cell_type": "markdown",
   "metadata": {},
   "source": [
    "## Find all classes defined in the Schema"
   ]
  },
  {
   "cell_type": "code",
   "execution_count": 3,
   "metadata": {},
   "outputs": [
    {
     "data": {
      "text/plain": [
       "[<SchemaClass \"bts:ClinicalIntervention\">,\n",
       " <SchemaClass \"bts:Device\">,\n",
       " <SchemaClass \"bts:DrugExposure\">,\n",
       " <SchemaClass \"bts:Case\">,\n",
       " <SchemaClass \"bts:GenomicEntity\">,\n",
       " <SchemaClass \"bts:CodingSequence\">,\n",
       " <SchemaClass \"bts:GeneProductIsoform\">,\n",
       " <SchemaClass \"bts:MolecularActivity\">,\n",
       " <SchemaClass \"bts:GeneProduct\">,\n",
       " <SchemaClass \"bts:GeographicLocation\">,\n",
       " <SchemaClass \"bts:Disease\">,\n",
       " <SchemaClass \"bts:GeneOrGeneProduct\">,\n",
       " <SchemaClass \"bts:RnaProductIsoform\">,\n",
       " <SchemaClass \"bts:CellLine\">,\n",
       " <SchemaClass \"bts:GrossAnatomicalStructure\">,\n",
       " <SchemaClass \"bts:Occurrent\">,\n",
       " <SchemaClass \"bts:AnatomicalEntity\">,\n",
       " <SchemaClass \"bts:RnaProduct\">,\n",
       " <SchemaClass \"bts:MolecularEntity\">,\n",
       " <SchemaClass \"bts:BiologicalProcessOrActivity\">,\n",
       " <SchemaClass \"bts:ProteinIsoform\">,\n",
       " <SchemaClass \"bts:Phenomenon\">,\n",
       " <SchemaClass \"bts:Exon\">,\n",
       " <SchemaClass \"bts:ReactomePathway\">,\n",
       " <SchemaClass \"schema:Text\">,\n",
       " <SchemaClass \"bts:DiseaseOrPhenotypicFeature\">,\n",
       " <SchemaClass \"bts:ChemicalSubstance\">,\n",
       " <SchemaClass \"schema:Integer\">,\n",
       " <SchemaClass \"bts:ActivityAndBehavior\">,\n",
       " <SchemaClass \"bts:InformationContentEntity\">,\n",
       " <SchemaClass \"bts:Procedure\">,\n",
       " <SchemaClass \"bts:ClinicalEntity\">,\n",
       " <SchemaClass \"bts:PopulationOfIndividualOrganisms\">,\n",
       " <SchemaClass \"bts:Drug\">,\n",
       " <SchemaClass \"bts:Microrna\">,\n",
       " <SchemaClass \"bts:Biosample\">,\n",
       " <SchemaClass \"bts:SequenceVariant\">,\n",
       " <SchemaClass \"bts:PhysiologicalProcess\">,\n",
       " <SchemaClass \"bts:EvidenceType\">,\n",
       " <SchemaClass \"bts:Wikipathway\">,\n",
       " <SchemaClass \"bts:GeneOntologyClass\">,\n",
       " <SchemaClass \"bts:EnvironmentalProcess\">,\n",
       " <SchemaClass \"bts:Metabolite\">,\n",
       " <SchemaClass \"bts:MacromolecularComplex\">,\n",
       " <SchemaClass \"bts:Cell\">,\n",
       " <SchemaClass \"bts:EnvironmentalFeature\">,\n",
       " <SchemaClass \"bts:ClinicalTrial\">,\n",
       " <SchemaClass \"bts:BiologicalProcess\">,\n",
       " <SchemaClass \"bts:RelationshipType\">,\n",
       " <SchemaClass \"bts:PlanetaryEntity\">,\n",
       " <SchemaClass \"bts:LifeStage\">,\n",
       " <SchemaClass \"bts:Protein\">,\n",
       " <SchemaClass \"bts:OrganismalEntity\">,\n",
       " <SchemaClass \"bts:Genome\">,\n",
       " <SchemaClass \"bts:BiologicalEntity\">,\n",
       " <SchemaClass \"bts:Gene\">,\n",
       " <SchemaClass \"bts:GeneFamily\">,\n",
       " <SchemaClass \"bts:GeographicLocationAtTime\">,\n",
       " <SchemaClass \"bts:OntologyClass\">,\n",
       " <SchemaClass \"bts:Treatment\">,\n",
       " <SchemaClass \"bts:Transcript\">,\n",
       " <SchemaClass \"bts:Genotype\">,\n",
       " <SchemaClass \"bts:ConfidenceLevel\">,\n",
       " <SchemaClass \"bts:ProteinStructure\">,\n",
       " <SchemaClass \"bts:MacromolecularMachine\">,\n",
       " <SchemaClass \"bts:CellularComponent\">,\n",
       " <SchemaClass \"bts:Haplotype\">,\n",
       " <SchemaClass \"bts:Pathway\">,\n",
       " <SchemaClass \"bts:IndividualOrganism\">,\n",
       " <SchemaClass \"bts:PhenotypicFeature\">,\n",
       " <SchemaClass \"bts:NoncodingRnaProduct\">,\n",
       " <SchemaClass \"bts:OrganismTaxon\">,\n",
       " <SchemaClass \"bts:Environment\">,\n",
       " <SchemaClass \"bts:Publication\">,\n",
       " <SchemaClass \"schema:Thing\">]"
      ]
     },
     "execution_count": 3,
     "metadata": {},
     "output_type": "execute_result"
    }
   ],
   "source": [
    "se.list_all_classes()"
   ]
  },
  {
   "cell_type": "markdown",
   "metadata": {},
   "source": [
    "## Access class using different ID formats"
   ]
  },
  {
   "cell_type": "markdown",
   "metadata": {},
   "source": [
    "### 1. Access using URI"
   ]
  },
  {
   "cell_type": "code",
   "execution_count": 4,
   "metadata": {},
   "outputs": [
    {
     "data": {
      "text/plain": [
       "<SchemaClass \"bts:Gene\">"
      ]
     },
     "execution_count": 4,
     "metadata": {},
     "output_type": "execute_result"
    }
   ],
   "source": [
    "scls = se.get_class(\"http://schema.biothings.io/Gene\")\n",
    "scls"
   ]
  },
  {
   "cell_type": "markdown",
   "metadata": {},
   "source": [
    "### 2. Access using CURIE"
   ]
  },
  {
   "cell_type": "code",
   "execution_count": 5,
   "metadata": {},
   "outputs": [
    {
     "data": {
      "text/plain": [
       "<SchemaClass \"bts:Gene\">"
      ]
     },
     "execution_count": 5,
     "metadata": {},
     "output_type": "execute_result"
    }
   ],
   "source": [
    "scls = se.get_class(\"bts:Gene\")\n",
    "scls"
   ]
  },
  {
   "cell_type": "markdown",
   "metadata": {},
   "source": [
    "### 3. Access using label"
   ]
  },
  {
   "cell_type": "code",
   "execution_count": 6,
   "metadata": {},
   "outputs": [
    {
     "data": {
      "text/plain": [
       "<SchemaClass \"bts:Gene\">"
      ]
     },
     "execution_count": 6,
     "metadata": {},
     "output_type": "execute_result"
    }
   ],
   "source": [
    "scls = se.get_class(\"Gene\")\n",
    "scls"
   ]
  },
  {
   "cell_type": "markdown",
   "metadata": {},
   "source": [
    "## Find the URI of a specific class"
   ]
  },
  {
   "cell_type": "code",
   "execution_count": 7,
   "metadata": {},
   "outputs": [
    {
     "data": {
      "text/plain": [
       "'http://schema.biothings.io/Gene'"
      ]
     },
     "execution_count": 7,
     "metadata": {},
     "output_type": "execute_result"
    }
   ],
   "source": [
    "scls = se.get_class(\"Gene\")\n",
    "scls.uri"
   ]
  },
  {
   "cell_type": "markdown",
   "metadata": {},
   "source": [
    "## Find the label of a specific class"
   ]
  },
  {
   "cell_type": "code",
   "execution_count": 8,
   "metadata": {},
   "outputs": [
    {
     "data": {
      "text/plain": [
       "'Gene'"
      ]
     },
     "execution_count": 8,
     "metadata": {},
     "output_type": "execute_result"
    }
   ],
   "source": [
    "scls = se.get_class(\"Gene\")\n",
    "scls.label"
   ]
  },
  {
   "cell_type": "markdown",
   "metadata": {},
   "source": [
    "## Find the CURIE of a specific class"
   ]
  },
  {
   "cell_type": "code",
   "execution_count": 9,
   "metadata": {},
   "outputs": [
    {
     "data": {
      "text/plain": [
       "'bts:Gene'"
      ]
     },
     "execution_count": 9,
     "metadata": {},
     "output_type": "execute_result"
    }
   ],
   "source": [
    "scls = se.get_class(\"Gene\")\n",
    "scls.name"
   ]
  },
  {
   "cell_type": "markdown",
   "metadata": {},
   "source": [
    "### Response if class is not defined"
   ]
  },
  {
   "cell_type": "code",
   "execution_count": 10,
   "metadata": {},
   "outputs": [
    {
     "name": "stderr",
     "output_type": "stream",
     "text": [
      "/Users/kevinxin/Documents/work/cd2h/schema_explorer/ENV/lib/python3.7/site-packages/biothings_schema/__init__.py:440: UserWarning: Class dd is not defined in Schema. Could not access it\n",
      "  warnings.warn('Class {} is not defined in Schema. Could not access it'.format(self.name))\n"
     ]
    }
   ],
   "source": [
    "scls = se.get_class(\"dd\")"
   ]
  },
  {
   "cell_type": "code",
   "execution_count": 11,
   "metadata": {},
   "outputs": [
    {
     "data": {
      "text/plain": [
       "'dd'"
      ]
     },
     "execution_count": 11,
     "metadata": {},
     "output_type": "execute_result"
    }
   ],
   "source": [
    "scls.uri"
   ]
  },
  {
   "cell_type": "code",
   "execution_count": 12,
   "metadata": {},
   "outputs": [
    {
     "data": {
      "text/plain": [
       "'dd'"
      ]
     },
     "execution_count": 12,
     "metadata": {},
     "output_type": "execute_result"
    }
   ],
   "source": [
    "scls.name"
   ]
  },
  {
   "cell_type": "code",
   "execution_count": 13,
   "metadata": {},
   "outputs": [
    {
     "data": {
      "text/plain": [
       "'dd'"
      ]
     },
     "execution_count": 13,
     "metadata": {},
     "output_type": "execute_result"
    }
   ],
   "source": [
    "scls.label"
   ]
  },
  {
   "cell_type": "markdown",
   "metadata": {},
   "source": [
    "## Find all parents of a specific class"
   ]
  },
  {
   "cell_type": "code",
   "execution_count": 14,
   "metadata": {},
   "outputs": [
    {
     "data": {
      "text/plain": [
       "[[<SchemaClass \"schema:Thing\">,\n",
       "  <SchemaClass \"bts:BiologicalEntity\">,\n",
       "  <SchemaClass \"bts:MolecularEntity\">,\n",
       "  <SchemaClass \"bts:GenomicEntity\">,\n",
       "  <SchemaClass \"bts:MacromolecularMachine\">,\n",
       "  <SchemaClass \"bts:GeneOrGeneProduct\">]]"
      ]
     },
     "execution_count": 14,
     "metadata": {},
     "output_type": "execute_result"
    }
   ],
   "source": [
    "# find parents of \"Gene\" class\n",
    "scls = se.get_class(\"Gene\")\n",
    "scls.parent_classes"
   ]
  },
  {
   "cell_type": "markdown",
   "metadata": {},
   "source": [
    "## Find all direct children of a specific class"
   ]
  },
  {
   "cell_type": "code",
   "execution_count": 15,
   "metadata": {},
   "outputs": [
    {
     "data": {
      "text/plain": [
       "[<SchemaClass \"bts:ChemicalSubstance\">,\n",
       " <SchemaClass \"bts:GenomicEntity\">,\n",
       " <SchemaClass \"bts:GeneFamily\">]"
      ]
     },
     "execution_count": 15,
     "metadata": {},
     "output_type": "execute_result"
    }
   ],
   "source": [
    "# find direct children of \"MolecularEntity\" class\n",
    "scls = se.get_class(\"MolecularEntity\")\n",
    "scls.child_classes"
   ]
  },
  {
   "cell_type": "markdown",
   "metadata": {},
   "source": [
    "# Find all descendants of a specific class"
   ]
  },
  {
   "cell_type": "code",
   "execution_count": 16,
   "metadata": {},
   "outputs": [
    {
     "data": {
      "text/plain": [
       "[<SchemaClass \"bts:SequenceVariant\">,\n",
       " <SchemaClass \"bts:Microrna\">,\n",
       " <SchemaClass \"bts:GenomicEntity\">,\n",
       " <SchemaClass \"bts:CodingSequence\">,\n",
       " <SchemaClass \"bts:GeneProductIsoform\">,\n",
       " <SchemaClass \"bts:Metabolite\">,\n",
       " <SchemaClass \"bts:MacromolecularComplex\">,\n",
       " <SchemaClass \"bts:GeneOrGeneProduct\">,\n",
       " <SchemaClass \"bts:RnaProductIsoform\">,\n",
       " <SchemaClass \"bts:Protein\">,\n",
       " <SchemaClass \"bts:Genome\">,\n",
       " <SchemaClass \"bts:Gene\">,\n",
       " <SchemaClass \"bts:Transcript\">,\n",
       " <SchemaClass \"bts:Genotype\">,\n",
       " <SchemaClass \"bts:MacromolecularMachine\">,\n",
       " <SchemaClass \"bts:RnaProduct\">,\n",
       " <SchemaClass \"bts:Haplotype\">,\n",
       " <SchemaClass \"bts:ProteinIsoform\">,\n",
       " <SchemaClass \"bts:Exon\">,\n",
       " <SchemaClass \"bts:ChemicalSubstance\">,\n",
       " <SchemaClass \"bts:NoncodingRnaProduct\">,\n",
       " <SchemaClass \"bts:GeneFamily\">,\n",
       " <SchemaClass \"bts:Drug\">,\n",
       " <SchemaClass \"bts:GeneProduct\">]"
      ]
     },
     "execution_count": 16,
     "metadata": {},
     "output_type": "execute_result"
    }
   ],
   "source": [
    "# find descendants of \"MolecularEntity\" class\n",
    "scls = se.get_class(\"MolecularEntity\")\n",
    "scls.descendant_classes"
   ]
  },
  {
   "cell_type": "markdown",
   "metadata": {},
   "source": [
    "## Find properties specifically defined for a class"
   ]
  },
  {
   "cell_type": "code",
   "execution_count": 17,
   "metadata": {},
   "outputs": [
    {
     "data": {
      "text/plain": [
       "[<SchemaProperty \"bts:hasGeneProduct\"\">,\n",
       " <SchemaProperty \"bts:entrez\"\">,\n",
       " <SchemaProperty \"bts:hgnc\"\">,\n",
       " <SchemaProperty \"bts:sgd\"\">,\n",
       " <SchemaProperty \"bts:geneAssociatedWithCondition\"\">,\n",
       " <SchemaProperty \"bts:zfin\"\">,\n",
       " <SchemaProperty \"bts:flybase\"\">,\n",
       " <SchemaProperty \"bts:symbol\"\">,\n",
       " <SchemaProperty \"bts:geneticallyInteractsWith\"\">,\n",
       " <SchemaProperty \"bts:mgi\"\">,\n",
       " <SchemaProperty \"bts:pombase\"\">,\n",
       " <SchemaProperty \"bts:rgd\"\">,\n",
       " <SchemaProperty \"bts:umls\"\">,\n",
       " <SchemaProperty \"bts:tair\"\">,\n",
       " <SchemaProperty \"bts:pharos\"\">,\n",
       " <SchemaProperty \"bts:hasTranscript\"\">,\n",
       " <SchemaProperty \"bts:unigene\"\">,\n",
       " <SchemaProperty \"bts:pharmgkb\"\">,\n",
       " <SchemaProperty \"bts:omim\"\">,\n",
       " <SchemaProperty \"bts:inTaxon\"\">,\n",
       " <SchemaProperty \"bts:dictybase\"\">]"
      ]
     },
     "execution_count": 17,
     "metadata": {},
     "output_type": "execute_result"
    }
   ],
   "source": [
    "# find properties specifically defined for \"Gene\" class\n",
    "scls = se.get_class(\"Gene\")\n",
    "scls.list_properties(group_by_class=False)"
   ]
  },
  {
   "cell_type": "markdown",
   "metadata": {},
   "source": [
    "## Find all properties related to a class (including the parents' properties)"
   ]
  },
  {
   "cell_type": "code",
   "execution_count": 18,
   "metadata": {},
   "outputs": [
    {
     "data": {
      "text/plain": [
       "[{'class': 'bts:Gene',\n",
       "  'properties': [<SchemaProperty \"bts:hgnc\"\">,\n",
       "   <SchemaProperty \"bts:mgi\"\">,\n",
       "   <SchemaProperty \"bts:rgd\"\">,\n",
       "   <SchemaProperty \"bts:zfin\"\">,\n",
       "   <SchemaProperty \"bts:flybase\"\">,\n",
       "   <SchemaProperty \"bts:sgd\"\">,\n",
       "   <SchemaProperty \"bts:pombase\"\">,\n",
       "   <SchemaProperty \"bts:dictybase\"\">,\n",
       "   <SchemaProperty \"bts:tair\"\">,\n",
       "   <SchemaProperty \"bts:inTaxon\"\">,\n",
       "   <SchemaProperty \"bts:entrez\"\">,\n",
       "   <SchemaProperty \"bts:pharos\"\">,\n",
       "   <SchemaProperty \"bts:pharmgkb\"\">,\n",
       "   <SchemaProperty \"bts:symbol\"\">,\n",
       "   <SchemaProperty \"bts:omim\"\">,\n",
       "   <SchemaProperty \"bts:umls\"\">,\n",
       "   <SchemaProperty \"bts:unigene\"\">,\n",
       "   <SchemaProperty \"bts:geneticallyInteractsWith\"\">,\n",
       "   <SchemaProperty \"bts:hasGeneProduct\"\">,\n",
       "   <SchemaProperty \"bts:hasTranscript\"\">,\n",
       "   <SchemaProperty \"bts:geneAssociatedWithCondition\"\">]},\n",
       " {'class': 'http://schema.biothings.io/GeneOrGeneProduct',\n",
       "  'properties': [<SchemaProperty \"bts:ensembl\"\">,\n",
       "   <SchemaProperty \"bts:refseq\"\">,\n",
       "   <SchemaProperty \"bts:metabolize\"\">,\n",
       "   <SchemaProperty \"bts:targetedBy\"\">,\n",
       "   <SchemaProperty \"bts:enablesMF\"\">,\n",
       "   <SchemaProperty \"bts:involvedInBP\"\">,\n",
       "   <SchemaProperty \"bts:involvedInPathway\"\">,\n",
       "   <SchemaProperty \"bts:involvedInWikipathway\"\">,\n",
       "   <SchemaProperty \"bts:involvedInReactomePathway\"\">,\n",
       "   <SchemaProperty \"bts:hasHomolog\"\">,\n",
       "   <SchemaProperty \"bts:orthologousTo\"\">,\n",
       "   <SchemaProperty \"bts:hasProteinStructure\"\">,\n",
       "   <SchemaProperty \"bts:inPathwayWith\"\">,\n",
       "   <SchemaProperty \"bts:inComplexWith\"\">,\n",
       "   <SchemaProperty \"bts:inCellPopulationWith\"\">,\n",
       "   <SchemaProperty \"bts:expressedIn\"\">]},\n",
       " {'class': 'http://schema.biothings.io/MacromolecularMachine',\n",
       "  'properties': []},\n",
       " {'class': 'http://schema.biothings.io/GenomicEntity', 'properties': []},\n",
       " {'class': 'http://schema.biothings.io/MolecularEntity',\n",
       "  'properties': [<SchemaProperty \"bts:molecularlyInteractsWith\"\">,\n",
       "   <SchemaProperty \"bts:affectsAbundanceOf\"\">,\n",
       "   <SchemaProperty \"bts:increasesAbundanceOf\"\">,\n",
       "   <SchemaProperty \"bts:decreasesAbundanceOf\"\">,\n",
       "   <SchemaProperty \"bts:affectsActivityOf\"\">,\n",
       "   <SchemaProperty \"bts:increasesActivityOf\"\">,\n",
       "   <SchemaProperty \"bts:decreasesActivityOf\"\">,\n",
       "   <SchemaProperty \"bts:affectsExpressionOf\"\">,\n",
       "   <SchemaProperty \"bts:increasesExpressionOf\"\">,\n",
       "   <SchemaProperty \"bts:decreasesExpressionOf\"\">,\n",
       "   <SchemaProperty \"bts:affectsFoldingOf\"\">,\n",
       "   <SchemaProperty \"bts:increasesFoldingOf\"\">,\n",
       "   <SchemaProperty \"bts:decreasesFoldingOf\"\">,\n",
       "   <SchemaProperty \"bts:affectsLocalizationOf\"\">,\n",
       "   <SchemaProperty \"bts:increasesLocalizationOf\"\">,\n",
       "   <SchemaProperty \"bts:decreasesLocalizationOf\"\">,\n",
       "   <SchemaProperty \"bts:affectsMetabolicProcessingOf\"\">,\n",
       "   <SchemaProperty \"bts:increasesMetabolicProcessingOf\"\">,\n",
       "   <SchemaProperty \"bts:decreasesMetabolicProcessingOf\"\">,\n",
       "   <SchemaProperty \"bts:affectsMolecularModificationOf\"\">,\n",
       "   <SchemaProperty \"bts:increasesMolecularModificationOf\"\">,\n",
       "   <SchemaProperty \"bts:decreasesMolecularModificationOf\"\">,\n",
       "   <SchemaProperty \"bts:affectsSynthesisOf\"\">,\n",
       "   <SchemaProperty \"bts:increasesSynthesisOf\"\">,\n",
       "   <SchemaProperty \"bts:decreasesSynthesisOf\"\">,\n",
       "   <SchemaProperty \"bts:affectsDegradationOf\"\">,\n",
       "   <SchemaProperty \"bts:increasesDegradationOf\"\">,\n",
       "   <SchemaProperty \"bts:decreasesDegradationOf\"\">,\n",
       "   <SchemaProperty \"bts:affectsMutationRateOf\"\">,\n",
       "   <SchemaProperty \"bts:increasesMutationRateOf\"\">,\n",
       "   <SchemaProperty \"bts:decreasesMutationRateOf\"\">,\n",
       "   <SchemaProperty \"bts:affectsResponseTo\"\">,\n",
       "   <SchemaProperty \"bts:increasesResponseTo\"\">,\n",
       "   <SchemaProperty \"bts:decreasesResponseTo\"\">,\n",
       "   <SchemaProperty \"bts:affectsSplicingOf\"\">,\n",
       "   <SchemaProperty \"bts:increasesSplicingOf\"\">,\n",
       "   <SchemaProperty \"bts:decreasesSplicingOf\"\">,\n",
       "   <SchemaProperty \"bts:affectsStabilityOf\"\">,\n",
       "   <SchemaProperty \"bts:increasesStabilityOf\"\">,\n",
       "   <SchemaProperty \"bts:decreasesStabilityOf\"\">,\n",
       "   <SchemaProperty \"bts:affectsTransportOf\"\">,\n",
       "   <SchemaProperty \"bts:increasesTransportOf\"\">,\n",
       "   <SchemaProperty \"bts:decreasesTransportOf\"\">,\n",
       "   <SchemaProperty \"bts:affectsSecretionOf\"\">,\n",
       "   <SchemaProperty \"bts:increasesSecretionOf\"\">,\n",
       "   <SchemaProperty \"bts:decreasesSecretionOf\"\">,\n",
       "   <SchemaProperty \"bts:affectsUptakeOf\"\">,\n",
       "   <SchemaProperty \"bts:increasesUptakeOf\"\">,\n",
       "   <SchemaProperty \"bts:decreasesUptakeOf\"\">,\n",
       "   <SchemaProperty \"bts:regulates,EntityToEntity\"\">,\n",
       "   <SchemaProperty \"bts:biomarkerFor\"\">]},\n",
       " {'class': 'http://schema.biothings.io/BiologicalEntity',\n",
       "  'properties': [<SchemaProperty \"bts:hasPhenotype\"\">]},\n",
       " {'class': 'http://schema.org/Thing',\n",
       "  'properties': [<SchemaProperty \"schema:sameAs\"\">,\n",
       "   <SchemaProperty \"schema:url\"\">,\n",
       "   <SchemaProperty \"schema:alternateName\"\">,\n",
       "   <SchemaProperty \"schema:image\"\">,\n",
       "   <SchemaProperty \"schema:additionalType\"\">,\n",
       "   <SchemaProperty \"schema:name\"\">,\n",
       "   <SchemaProperty \"schema:identifier\"\">,\n",
       "   <SchemaProperty \"schema:subjectOf\"\">,\n",
       "   <SchemaProperty \"schema:mainEntityOfPage\"\">,\n",
       "   <SchemaProperty \"schema:potentialAction\"\">,\n",
       "   <SchemaProperty \"schema:disambiguatingDescription\"\">,\n",
       "   <SchemaProperty \"schema:description\"\">]}]"
      ]
     },
     "execution_count": 18,
     "metadata": {},
     "output_type": "execute_result"
    }
   ],
   "source": [
    "# find all properties related to \"Gene\"\n",
    "scls = se.get_class(\"Gene\")\n",
    "scls.list_properties(class_specific=False)"
   ]
  },
  {
   "cell_type": "markdown",
   "metadata": {},
   "source": [
    "## Explore where a class is used"
   ]
  },
  {
   "cell_type": "code",
   "execution_count": 19,
   "metadata": {},
   "outputs": [
    {
     "data": {
      "text/plain": [
       "['http://schema.biothings.io/affectsExpressionOf',\n",
       " 'http://schema.biothings.io/increasesExpressionOf',\n",
       " 'http://schema.biothings.io/decreasesExpressionOf',\n",
       " 'http://schema.biothings.io/affectsMutationRateOf',\n",
       " 'http://schema.biothings.io/increasesMutationRateOf',\n",
       " 'http://schema.biothings.io/decreasesMutationRateOf']"
      ]
     },
     "execution_count": 19,
     "metadata": {},
     "output_type": "execute_result"
    }
   ],
   "source": [
    "# find where \"GenomicEntity\" class is used\n",
    "scls = se.get_class(\"GenomicEntity\")\n",
    "scls.used_by()"
   ]
  },
  {
   "cell_type": "markdown",
   "metadata": {},
   "source": [
    "## Explore all information related to the class"
   ]
  },
  {
   "cell_type": "markdown",
   "metadata": {},
   "source": [
    "Including:\n",
    "1. Related properties\n",
    "2. Parent classes\n",
    "3. Direct child classes\n",
    "4. Where the class is used"
   ]
  },
  {
   "cell_type": "code",
   "execution_count": 20,
   "metadata": {},
   "outputs": [
    {
     "data": {
      "text/plain": [
       "{'properties': [{'class': 'bts:GenomicEntity', 'properties': []},\n",
       "  {'class': 'http://schema.biothings.io/MolecularEntity',\n",
       "   'properties': [<SchemaProperty \"bts:molecularlyInteractsWith\"\">,\n",
       "    <SchemaProperty \"bts:affectsAbundanceOf\"\">,\n",
       "    <SchemaProperty \"bts:increasesAbundanceOf\"\">,\n",
       "    <SchemaProperty \"bts:decreasesAbundanceOf\"\">,\n",
       "    <SchemaProperty \"bts:affectsActivityOf\"\">,\n",
       "    <SchemaProperty \"bts:increasesActivityOf\"\">,\n",
       "    <SchemaProperty \"bts:decreasesActivityOf\"\">,\n",
       "    <SchemaProperty \"bts:affectsExpressionOf\"\">,\n",
       "    <SchemaProperty \"bts:increasesExpressionOf\"\">,\n",
       "    <SchemaProperty \"bts:decreasesExpressionOf\"\">,\n",
       "    <SchemaProperty \"bts:affectsFoldingOf\"\">,\n",
       "    <SchemaProperty \"bts:increasesFoldingOf\"\">,\n",
       "    <SchemaProperty \"bts:decreasesFoldingOf\"\">,\n",
       "    <SchemaProperty \"bts:affectsLocalizationOf\"\">,\n",
       "    <SchemaProperty \"bts:increasesLocalizationOf\"\">,\n",
       "    <SchemaProperty \"bts:decreasesLocalizationOf\"\">,\n",
       "    <SchemaProperty \"bts:affectsMetabolicProcessingOf\"\">,\n",
       "    <SchemaProperty \"bts:increasesMetabolicProcessingOf\"\">,\n",
       "    <SchemaProperty \"bts:decreasesMetabolicProcessingOf\"\">,\n",
       "    <SchemaProperty \"bts:affectsMolecularModificationOf\"\">,\n",
       "    <SchemaProperty \"bts:increasesMolecularModificationOf\"\">,\n",
       "    <SchemaProperty \"bts:decreasesMolecularModificationOf\"\">,\n",
       "    <SchemaProperty \"bts:affectsSynthesisOf\"\">,\n",
       "    <SchemaProperty \"bts:increasesSynthesisOf\"\">,\n",
       "    <SchemaProperty \"bts:decreasesSynthesisOf\"\">,\n",
       "    <SchemaProperty \"bts:affectsDegradationOf\"\">,\n",
       "    <SchemaProperty \"bts:increasesDegradationOf\"\">,\n",
       "    <SchemaProperty \"bts:decreasesDegradationOf\"\">,\n",
       "    <SchemaProperty \"bts:affectsMutationRateOf\"\">,\n",
       "    <SchemaProperty \"bts:increasesMutationRateOf\"\">,\n",
       "    <SchemaProperty \"bts:decreasesMutationRateOf\"\">,\n",
       "    <SchemaProperty \"bts:affectsResponseTo\"\">,\n",
       "    <SchemaProperty \"bts:increasesResponseTo\"\">,\n",
       "    <SchemaProperty \"bts:decreasesResponseTo\"\">,\n",
       "    <SchemaProperty \"bts:affectsSplicingOf\"\">,\n",
       "    <SchemaProperty \"bts:increasesSplicingOf\"\">,\n",
       "    <SchemaProperty \"bts:decreasesSplicingOf\"\">,\n",
       "    <SchemaProperty \"bts:affectsStabilityOf\"\">,\n",
       "    <SchemaProperty \"bts:increasesStabilityOf\"\">,\n",
       "    <SchemaProperty \"bts:decreasesStabilityOf\"\">,\n",
       "    <SchemaProperty \"bts:affectsTransportOf\"\">,\n",
       "    <SchemaProperty \"bts:increasesTransportOf\"\">,\n",
       "    <SchemaProperty \"bts:decreasesTransportOf\"\">,\n",
       "    <SchemaProperty \"bts:affectsSecretionOf\"\">,\n",
       "    <SchemaProperty \"bts:increasesSecretionOf\"\">,\n",
       "    <SchemaProperty \"bts:decreasesSecretionOf\"\">,\n",
       "    <SchemaProperty \"bts:affectsUptakeOf\"\">,\n",
       "    <SchemaProperty \"bts:increasesUptakeOf\"\">,\n",
       "    <SchemaProperty \"bts:decreasesUptakeOf\"\">,\n",
       "    <SchemaProperty \"bts:regulates,EntityToEntity\"\">,\n",
       "    <SchemaProperty \"bts:biomarkerFor\"\">]},\n",
       "  {'class': 'http://schema.biothings.io/BiologicalEntity',\n",
       "   'properties': [<SchemaProperty \"bts:hasPhenotype\"\">]},\n",
       "  {'class': 'http://schema.org/Thing',\n",
       "   'properties': [<SchemaProperty \"schema:sameAs\"\">,\n",
       "    <SchemaProperty \"schema:url\"\">,\n",
       "    <SchemaProperty \"schema:alternateName\"\">,\n",
       "    <SchemaProperty \"schema:image\"\">,\n",
       "    <SchemaProperty \"schema:additionalType\"\">,\n",
       "    <SchemaProperty \"schema:name\"\">,\n",
       "    <SchemaProperty \"schema:identifier\"\">,\n",
       "    <SchemaProperty \"schema:subjectOf\"\">,\n",
       "    <SchemaProperty \"schema:mainEntityOfPage\"\">,\n",
       "    <SchemaProperty \"schema:potentialAction\"\">,\n",
       "    <SchemaProperty \"schema:disambiguatingDescription\"\">,\n",
       "    <SchemaProperty \"schema:description\"\">]}],\n",
       " 'description': 'an entity that can either be directly located on a genome (gene, transcript, exon, regulatory region) or is encoded in a genome (protein)',\n",
       " 'uri': 'http://schema.biothings.io/GenomicEntity',\n",
       " 'label': 'GenomicEntity',\n",
       " 'curie': 'bts:GenomicEntity',\n",
       " 'used_by': ['http://schema.biothings.io/affectsExpressionOf',\n",
       "  'http://schema.biothings.io/increasesExpressionOf',\n",
       "  'http://schema.biothings.io/decreasesExpressionOf',\n",
       "  'http://schema.biothings.io/affectsMutationRateOf',\n",
       "  'http://schema.biothings.io/increasesMutationRateOf',\n",
       "  'http://schema.biothings.io/decreasesMutationRateOf'],\n",
       " 'child_classes': [<SchemaClass \"bts:Genome\">,\n",
       "  <SchemaClass \"bts:Transcript\">,\n",
       "  <SchemaClass \"bts:Exon\">,\n",
       "  <SchemaClass \"bts:CodingSequence\">,\n",
       "  <SchemaClass \"bts:MacromolecularMachine\">,\n",
       "  <SchemaClass \"bts:Genotype\">,\n",
       "  <SchemaClass \"bts:Haplotype\">,\n",
       "  <SchemaClass \"bts:SequenceVariant\">],\n",
       " 'parent_classes': [[<SchemaClass \"schema:Thing\">,\n",
       "   <SchemaClass \"bts:BiologicalEntity\">,\n",
       "   <SchemaClass \"bts:MolecularEntity\">]],\n",
       " 'ancestor_classes': [<SchemaClass \"bts:BiologicalEntity\">,\n",
       "  <SchemaClass \"bts:MolecularEntity\">,\n",
       "  <SchemaClass \"schema:Thing\">],\n",
       " 'descendant_classes': [<SchemaClass \"bts:SequenceVariant\">,\n",
       "  <SchemaClass \"bts:Microrna\">,\n",
       "  <SchemaClass \"bts:CodingSequence\">,\n",
       "  <SchemaClass \"bts:GeneProductIsoform\">,\n",
       "  <SchemaClass \"bts:MacromolecularComplex\">,\n",
       "  <SchemaClass \"bts:GeneOrGeneProduct\">,\n",
       "  <SchemaClass \"bts:RnaProductIsoform\">,\n",
       "  <SchemaClass \"bts:Protein\">,\n",
       "  <SchemaClass \"bts:Genome\">,\n",
       "  <SchemaClass \"bts:Gene\">,\n",
       "  <SchemaClass \"bts:Transcript\">,\n",
       "  <SchemaClass \"bts:Genotype\">,\n",
       "  <SchemaClass \"bts:MacromolecularMachine\">,\n",
       "  <SchemaClass \"bts:RnaProduct\">,\n",
       "  <SchemaClass \"bts:Haplotype\">,\n",
       "  <SchemaClass \"bts:ProteinIsoform\">,\n",
       "  <SchemaClass \"bts:NoncodingRnaProduct\">,\n",
       "  <SchemaClass \"bts:Exon\">,\n",
       "  <SchemaClass \"bts:GeneProduct\">]}"
      ]
     },
     "execution_count": 20,
     "metadata": {},
     "output_type": "execute_result"
    }
   ],
   "source": [
    "# explore all information related to \"GenomicEntity\" class\n",
    "scls = se.get_class(\"GenomicEntity\")\n",
    "scls.describe()"
   ]
  },
  {
   "cell_type": "markdown",
   "metadata": {},
   "source": [
    "## Access property using different ID formats"
   ]
  },
  {
   "cell_type": "markdown",
   "metadata": {},
   "source": [
    "### 1. Access using URI"
   ]
  },
  {
   "cell_type": "code",
   "execution_count": 21,
   "metadata": {},
   "outputs": [
    {
     "name": "stdout",
     "output_type": "stream",
     "text": [
      "bts:ensembl\n"
     ]
    }
   ],
   "source": [
    "sp = se.get_property(\"http://schema.biothings.io/ensembl\")\n",
    "print(sp)"
   ]
  },
  {
   "cell_type": "markdown",
   "metadata": {},
   "source": [
    "### 2. Access using CURIE"
   ]
  },
  {
   "cell_type": "code",
   "execution_count": 22,
   "metadata": {},
   "outputs": [
    {
     "name": "stdout",
     "output_type": "stream",
     "text": [
      "bts:ensembl\n"
     ]
    }
   ],
   "source": [
    "sp = se.get_property(\"bts:ensembl\")\n",
    "print(sp)"
   ]
  },
  {
   "cell_type": "markdown",
   "metadata": {},
   "source": [
    "### 3. Access using label"
   ]
  },
  {
   "cell_type": "code",
   "execution_count": 23,
   "metadata": {},
   "outputs": [
    {
     "name": "stdout",
     "output_type": "stream",
     "text": [
      "bts:ensembl\n"
     ]
    }
   ],
   "source": [
    "sp = se.get_property(\"ensembl\")\n",
    "print(sp)"
   ]
  },
  {
   "cell_type": "markdown",
   "metadata": {},
   "source": [
    "## Find all parents of a specific property"
   ]
  },
  {
   "cell_type": "code",
   "execution_count": 24,
   "metadata": {},
   "outputs": [
    {
     "data": {
      "text/plain": [
       "[<SchemaProperty \"schema:identifier\"\">]"
      ]
     },
     "execution_count": 24,
     "metadata": {},
     "output_type": "execute_result"
    }
   ],
   "source": [
    "# find parents of \"ensembl\" property\n",
    "sp = se.get_property(\"ensembl\")\n",
    "sp.parent_properties"
   ]
  },
  {
   "cell_type": "markdown",
   "metadata": {},
   "source": [
    "## Find all children of a specific property"
   ]
  },
  {
   "cell_type": "code",
   "execution_count": 25,
   "metadata": {},
   "outputs": [
    {
     "data": {
      "text/plain": [
       "[<SchemaProperty \"schema:isbn\"\">,\n",
       " <SchemaProperty \"schema:nsn\"\">,\n",
       " <SchemaProperty \"schema:sku\"\">,\n",
       " <SchemaProperty \"schema:serialNumber\"\">,\n",
       " <SchemaProperty \"schema:orderNumber\"\">,\n",
       " <SchemaProperty \"schema:gtin8\"\">,\n",
       " <SchemaProperty \"schema:globalLocationNumber\"\">,\n",
       " <SchemaProperty \"schema:confirmationNumber\"\">,\n",
       " <SchemaProperty \"schema:accountId\"\">,\n",
       " <SchemaProperty \"schema:duns\"\">,\n",
       " <SchemaProperty \"schema:taxID\"\">,\n",
       " <SchemaProperty \"schema:legislationIdentifier\"\">,\n",
       " <SchemaProperty \"schema:issn\"\">,\n",
       " <SchemaProperty \"schema:leiCode\"\">,\n",
       " <SchemaProperty \"schema:gtin14\"\">,\n",
       " <SchemaProperty \"schema:gtin13\"\">,\n",
       " <SchemaProperty \"schema:gtin12\"\">,\n",
       " <SchemaProperty \"schema:productID\"\">,\n",
       " <SchemaProperty \"schema:flightNumber\"\">,\n",
       " <SchemaProperty \"bts:ensembl\"\">,\n",
       " <SchemaProperty \"bts:hgnc\"\">,\n",
       " <SchemaProperty \"bts:mgi\"\">,\n",
       " <SchemaProperty \"bts:rgd\"\">,\n",
       " <SchemaProperty \"bts:zfin\"\">,\n",
       " <SchemaProperty \"bts:flybase\"\">,\n",
       " <SchemaProperty \"bts:sgd\"\">,\n",
       " <SchemaProperty \"bts:pombase\"\">,\n",
       " <SchemaProperty \"bts:dictybase\"\">,\n",
       " <SchemaProperty \"bts:tair\"\">,\n",
       " <SchemaProperty \"bts:entrez\"\">,\n",
       " <SchemaProperty \"bts:pharos\"\">,\n",
       " <SchemaProperty \"bts:pharmgkb\"\">,\n",
       " <SchemaProperty \"bts:symbol\"\">,\n",
       " <SchemaProperty \"bts:uniprot\"\">,\n",
       " <SchemaProperty \"bts:refseq\"\">,\n",
       " <SchemaProperty \"bts:omim\"\">,\n",
       " <SchemaProperty \"bts:umls\"\">,\n",
       " <SchemaProperty \"bts:unigene\"\">,\n",
       " <SchemaProperty \"bts:inchi\"\">,\n",
       " <SchemaProperty \"bts:inchikey\"\">,\n",
       " <SchemaProperty \"bts:rxcui\"\">,\n",
       " <SchemaProperty \"bts:smiles\"\">,\n",
       " <SchemaProperty \"bts:pubchem\"\">,\n",
       " <SchemaProperty \"bts:chembl\"\">,\n",
       " <SchemaProperty \"bts:drugbank\"\">,\n",
       " <SchemaProperty \"bts:unii\"\">]"
      ]
     },
     "execution_count": 25,
     "metadata": {},
     "output_type": "execute_result"
    }
   ],
   "source": [
    "# find parents of \"identifier\" property\n",
    "sp = se.get_property(\"identifier\")\n",
    "sp.child_properties"
   ]
  },
  {
   "cell_type": "markdown",
   "metadata": {},
   "source": [
    "## Find property description"
   ]
  },
  {
   "cell_type": "code",
   "execution_count": 26,
   "metadata": {},
   "outputs": [
    {
     "data": {
      "text/plain": [
       "'Ensembl ID for gene, protein or transcript'"
      ]
     },
     "execution_count": 26,
     "metadata": {},
     "output_type": "execute_result"
    }
   ],
   "source": [
    "# description of \"ensembl\" property\n",
    "sp = se.get_property(\"ensembl\")\n",
    "sp.description"
   ]
  },
  {
   "cell_type": "markdown",
   "metadata": {},
   "source": [
    "## Explore information about a property"
   ]
  },
  {
   "cell_type": "markdown",
   "metadata": {},
   "source": [
    "Includes:\n",
    "1. ID\n",
    "2. Description\n",
    "3. Domain (which class(es) use this property)\n",
    "4. Range (the value type)\n",
    "5. Parent properties\n",
    "6. Child properties"
   ]
  },
  {
   "cell_type": "code",
   "execution_count": 27,
   "metadata": {},
   "outputs": [
    {
     "data": {
      "text/plain": [
       "{'child_properties': [],\n",
       " 'descendant_properties': [],\n",
       " 'parent_properties': [<SchemaProperty \"schema:identifier\"\">],\n",
       " 'domain': [<SchemaClass \"bts:GeneOrGeneProduct\">,\n",
       "  <SchemaClass \"bts:Transcript\">],\n",
       " 'range': [<SchemaClass \"schema:Text\">],\n",
       " 'uri': 'http://schema.biothings.io/ensembl',\n",
       " 'label': 'ensembl'}"
      ]
     },
     "execution_count": 27,
     "metadata": {},
     "output_type": "execute_result"
    }
   ],
   "source": [
    "# explore \"ensembl\" property\n",
    "sp = se.get_property(\"ensembl\")\n",
    "sp.describe()"
   ]
  }
 ],
 "metadata": {
  "kernelspec": {
   "display_name": "Python 3",
   "language": "python",
   "name": "python3"
  },
  "language_info": {
   "codemirror_mode": {
    "name": "ipython",
    "version": 3
   },
   "file_extension": ".py",
   "mimetype": "text/x-python",
   "name": "python",
   "nbconvert_exporter": "python",
   "pygments_lexer": "ipython3",
   "version": "3.7.3"
  }
 },
 "nbformat": 4,
 "nbformat_minor": 2
}
