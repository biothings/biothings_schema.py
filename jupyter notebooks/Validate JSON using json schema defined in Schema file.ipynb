{
 "cells": [
  {
   "cell_type": "code",
   "execution_count": 1,
   "metadata": {},
   "outputs": [],
   "source": [
    "# import package\n",
    "from biothings_schema import Schema"
   ]
  },
  {
   "cell_type": "code",
   "execution_count": 2,
   "metadata": {},
   "outputs": [],
   "source": [
    "# load schema\n",
    "schema = {\n",
    "    \"@context\": {\n",
    "        \"schema\": \"http://schema.org/\",\n",
    "        \"bibo\": \"http://purl.org/ontology/bibo/\",\n",
    "        \"dc\": \"http://purl.org/dc/elements/1.1/\",\n",
    "        \"dcat\": \"http://www.w3.org/ns/dcat#\",\n",
    "        \"dct\": \"http://purl.org/dc/terms/\",\n",
    "        \"dcterms\": \"http://purl.org/dc/terms/\",\n",
    "        \"dctype\": \"http://purl.org/dc/dcmitype/\",\n",
    "        \"eli\": \"http://data.europa.eu/eli/ontology#\",\n",
    "        \"foaf\": \"http://xmlns.com/foaf/0.1/\",\n",
    "        \"owl\": \"http://www.w3.org/2002/07/owl#\",\n",
    "        \"rdf\": \"http://www.w3.org/1999/02/22-rdf-syntax-ns#\",\n",
    "        \"rdfa\": \"http://www.w3.org/ns/rdfa#\",\n",
    "        \"rdfs\": \"http://www.w3.org/2000/01/rdf-schema#\",\n",
    "        \"skos\": \"http://www.w3.org/2004/02/skos/core#\",\n",
    "        \"snomed\": \"http://purl.bioontology.org/ontology/SNOMEDCT/\",\n",
    "        \"void\": \"http://rdfs.org/ns/void#\",\n",
    "        \"xsd\": \"http://www.w3.org/2001/XMLSchema#\",\n",
    "        \"xsd1\": \"hhttp://www.w3.org/2001/XMLSchema#\",\n",
    "        \"cvisb\": \"https://data.cvisb.org/schema/\"\n",
    "    },\n",
    "    \"@graph\": [\n",
    "        {\n",
    "            \"@id\": \"cvisb:Dataset\",\n",
    "            \"@type\": \"rdfs:Class\",\n",
    "            \"rdfs:comment\": \"A schema describing Dataset in the Center for Viral Systems Biology\",\n",
    "            \"rdfs:label\": \"Dataset\",\n",
    "            \"rdfs:subClassOf\": {\n",
    "                \"@id\": \"schema:Dataset\"\n",
    "            },\n",
    "            \"$validation\": {\n",
    "                \"$schema\": \"http://json-schema.org/draft-07/schema#\",\n",
    "                \"title\": \"Dataset\",\n",
    "                \"description\": \"A schema describing Dataset in the Center for Viral Systems Biology\",\n",
    "                \"type\": \"object\",\n",
    "                \"properties\": {\n",
    "                    \"name\": {\n",
    "                        \"//\": \"the starting of inherented fields from schema:Dataset\",\n",
    "                        \"description\": \"The name of the Cvisb Dataset\",\n",
    "                        \"type\": \"string\"\n",
    "                    },\n",
    "                    \"description\": {\n",
    "                        \"description\": \"A description of the Cvisb Dataset\",\n",
    "                        \"type\": \"string\"\n",
    "                    },\n",
    "                    \"url\": {\n",
    "                        \"description\": \"URL of the item.\",\n",
    "                        \"type\": \"string\"\n",
    "                    },\n",
    "                    \"sameAs\": {\n",
    "                        \"description\": \"URL of a reference Web page that unambiguously indicates the item's identity. E.g. the URL of the item's Wikipedia page, Wikidata entry, or official website.\",\n",
    "                        \"type\": \"string\"\n",
    "                    },\n",
    "                    \"keywords\": {\n",
    "                        \"description\": \"Keywords or tags used to describe this content. Multiple entries in a keywords list are typically delimited by commas.\",\n",
    "                        \"type\": \"array\",\n",
    "                        \"items\": {\n",
    "                            \"type\": \"string\"\n",
    "                        }\n",
    "                    },\n",
    "                    \"datePublished\": {\n",
    "                        \"description\": \"Date of first broadcast/publication.\",\n",
    "                        \"oneOf\": [\n",
    "                            {\n",
    "                                \"type\": \"string\",\n",
    "                                \"format\": \"date-time\"\n",
    "                            },\n",
    "                            {\n",
    "                                \"type\": \"string\",\n",
    "                                \"format\": \"date\"\n",
    "                            }\n",
    "                        ]\n",
    "                    },\n",
    "                    \"dateModified\": {\n",
    "                        \"description\": \"The date on which the CreativeWork was most recently modified or when the item's entry was modified within a DataFeed.\",\n",
    "                        \"oneOf\": [\n",
    "                            {\n",
    "                                \"type\": \"string\",\n",
    "                                \"format\": \"date-time\"\n",
    "                            },\n",
    "                            {\n",
    "                                \"type\": \"string\",\n",
    "                                \"format\": \"date\"\n",
    "                            }\n",
    "                        ]\n",
    "                    },\n",
    "                    \"author\": {\n",
    "                        \"description\": \"The author of this content or rating. Please note that author is special in that HTML 5 provides a special mechanism for indicating authorship via the rel tag. That is equivalent to this and may be used interchangeably.\",\n",
    "                        \"type\": \"string\"\n",
    "                    },\n",
    "                    \"publisher\": {\n",
    "                        \"description\": \"The publisher of the creative work.\",\n",
    "                        \"type\": \"string\"\n",
    "                    },\n",
    "                    \"version\": {\n",
    "                        \"description\": \"The version of the CreativeWork embodied by a specified resource.\",\n",
    "                        \"type\": \"string\"\n",
    "                    },\n",
    "                    \"identifier\": {\n",
    "                        \"description\": \"The identifier property represents any kind of identifier for any kind of <a class=\\\"localLink\\\" href=\\\"http://schema.org/Thing\\\">Thing</a>, such as ISBNs, GTIN codes, UUIDs etc. Schema.org provides dedicated properties for representing many of these, either as textual strings or as URL (URI) links. See <a href=\\\"/docs/datamodel.html#identifierBg\\\">background notes</a> for more details.\",\n",
    "                        \"type\": \"string\"\n",
    "                    },\n",
    "                    \"temporalCoverage\": {\n",
    "                        \"description\": \"The temporalCoverage of a CreativeWork indicates the period that the content applies to, i.e. that it describes, either as a DateTime or as a textual string indicating a time period in <a href=\\\"https://en.wikipedia.org/wiki/ISO_8601#Time_intervals\\\">ISO 8601 time interval format</a>. In\\n      the case of a Dataset it will typically indicate the relevant time period in a precise notation (e.g. for a 2011 census dataset, the year 2011 would be written \\\"2011/2012\\\"). Other forms of content e.g. ScholarlyArticle, Book, TVSeries or TVEpisode may indicate their temporalCoverage in broader terms - textually or via well-known URL.\\n      Written works such as books may sometimes have precise temporal coverage too, e.g. a work set in 1939 - 1945 can be indicated in ISO 8601 interval format format via \\\"1939/1945\\\".<br/><br/>\\n\\nOpen-ended date ranges can be written with \\\"..\\\" in place of the end date. For example, \\\"2015-11/..\\\" indicates a range beginning in November 2015 and with no specified final date. This is tentative and might be updated in future when ISO 8601 is officially updated.\",\n",
    "                        \"type\": \"string\",\n",
    "                        \"oneOf\": [\n",
    "                            {\n",
    "                                \"type\": \"string\",\n",
    "                                \"format\": \"date-time\"\n",
    "                            },\n",
    "                            {\n",
    "                                \"type\": \"string\",\n",
    "                                \"format\": \"uri\"\n",
    "                            },\n",
    "                            {\n",
    "                                \"type\": \"string\"\n",
    "                            }\n",
    "                        ]\n",
    "                    },\n",
    "                    \"spatialCoverage\": {\n",
    "                        \"description\": \"The spatialCoverage of a CreativeWork indicates the place(s) which are the focus of the content. It is a subproperty of\\n      contentLocation intended primarily for more technical and detailed materials. For example with a Dataset, it indicates\\n      areas that the dataset describes: a dataset of New York weather would have spatialCoverage which was the place: the state of New York.\",\n",
    "                        \"type\": \"string\"\n",
    "                    },\n",
    "                    \"schemaVersion\": {\n",
    "                        \"description\": \"Indicates (by URL or string) a particular version of a schema used in some CreativeWork. For example, a document could declare a schemaVersion using an URL such as http://schema.org/version/2.0/ if precise indication of schema version was required by some application.\",\n",
    "                        \"type\": \"string\"\n",
    "                    },\n",
    "                    \"sourceCode\": {\n",
    "                        \"//\": \"the starting of new fields added to schema:Dataset\",\n",
    "                        \"type\": \"object\",\n",
    "                        \"properties\": {\n",
    "                            \"codeRepository\": {\n",
    "                                \"type\": \"string\",\n",
    "                                \"format\": \"uri\"\n",
    "                            }\n",
    "                        }\n",
    "                    }\n",
    "                },\n",
    "                \"required\": [\n",
    "                    \"distribution\",\n",
    "                    \"measurementTechnique\",\n",
    "                    \"version\",\n",
    "                    \"author\",\n",
    "                    \"description\",\n",
    "                    \"name\",\n",
    "                    \"identifier\",\n",
    "                ]\n",
    "            }\n",
    "        },\n",
    "        {\n",
    "            \"@id\": \"cvisb:sourceCode\",\n",
    "            \"@type\": \"rdf:Property\",\n",
    "            \"rdfs:comment\": \"Computer programming source code. Example: Full (compile ready) solutions, code snippet samples, scripts, templates.\",\n",
    "            \"rdfs:label\": \"sourceCode\",\n",
    "            \"schema:domainIncludes\": [\n",
    "                {\n",
    "                    \"@id\": \"cvisb:Dataset\"\n",
    "                }\n",
    "            ],\n",
    "            \"schema:rangeIncludes\": [\n",
    "                {\n",
    "                    \"@id\": \"schema:SoftwareSourceCode\"\n",
    "                }\n",
    "            ]\n",
    "        }\n",
    "    ]\n",
    "}\n",
    "\n",
    "se = Schema(schema)"
   ]
  },
  {
   "cell_type": "markdown",
   "metadata": {},
   "source": [
    "## Find classes include validation"
   ]
  },
  {
   "cell_type": "code",
   "execution_count": 3,
   "metadata": {},
   "outputs": [
    {
     "data": {
      "text/plain": [
       "{'https://data.cvisb.org/schema/Dataset': {'$schema': 'http://json-schema.org/draft-07/schema#',\n",
       "  'title': 'Dataset',\n",
       "  'description': 'A schema describing Dataset in the Center for Viral Systems Biology',\n",
       "  'type': 'object',\n",
       "  'properties': {'name': {'//': 'the starting of inherented fields from schema:Dataset',\n",
       "    'description': 'The name of the Cvisb Dataset',\n",
       "    'type': 'string'},\n",
       "   'description': {'description': 'A description of the Cvisb Dataset',\n",
       "    'type': 'string'},\n",
       "   'url': {'description': 'URL of the item.', 'type': 'string'},\n",
       "   'sameAs': {'description': \"URL of a reference Web page that unambiguously indicates the item's identity. E.g. the URL of the item's Wikipedia page, Wikidata entry, or official website.\",\n",
       "    'type': 'string'},\n",
       "   'keywords': {'description': 'Keywords or tags used to describe this content. Multiple entries in a keywords list are typically delimited by commas.',\n",
       "    'type': 'array',\n",
       "    'items': {'type': 'string'}},\n",
       "   'datePublished': {'description': 'Date of first broadcast/publication.',\n",
       "    'oneOf': [{'type': 'string', 'format': 'date-time'},\n",
       "     {'type': 'string', 'format': 'date'}]},\n",
       "   'dateModified': {'description': \"The date on which the CreativeWork was most recently modified or when the item's entry was modified within a DataFeed.\",\n",
       "    'oneOf': [{'type': 'string', 'format': 'date-time'},\n",
       "     {'type': 'string', 'format': 'date'}]},\n",
       "   'author': {'description': 'The author of this content or rating. Please note that author is special in that HTML 5 provides a special mechanism for indicating authorship via the rel tag. That is equivalent to this and may be used interchangeably.',\n",
       "    'type': 'string'},\n",
       "   'publisher': {'description': 'The publisher of the creative work.',\n",
       "    'type': 'string'},\n",
       "   'version': {'description': 'The version of the CreativeWork embodied by a specified resource.',\n",
       "    'type': 'string'},\n",
       "   'identifier': {'description': 'The identifier property represents any kind of identifier for any kind of <a class=\"localLink\" href=\"http://schema.org/Thing\">Thing</a>, such as ISBNs, GTIN codes, UUIDs etc. Schema.org provides dedicated properties for representing many of these, either as textual strings or as URL (URI) links. See <a href=\"/docs/datamodel.html#identifierBg\">background notes</a> for more details.',\n",
       "    'type': 'string'},\n",
       "   'temporalCoverage': {'description': 'The temporalCoverage of a CreativeWork indicates the period that the content applies to, i.e. that it describes, either as a DateTime or as a textual string indicating a time period in <a href=\"https://en.wikipedia.org/wiki/ISO_8601#Time_intervals\">ISO 8601 time interval format</a>. In\\n      the case of a Dataset it will typically indicate the relevant time period in a precise notation (e.g. for a 2011 census dataset, the year 2011 would be written \"2011/2012\"). Other forms of content e.g. ScholarlyArticle, Book, TVSeries or TVEpisode may indicate their temporalCoverage in broader terms - textually or via well-known URL.\\n      Written works such as books may sometimes have precise temporal coverage too, e.g. a work set in 1939 - 1945 can be indicated in ISO 8601 interval format format via \"1939/1945\".<br/><br/>\\n\\nOpen-ended date ranges can be written with \"..\" in place of the end date. For example, \"2015-11/..\" indicates a range beginning in November 2015 and with no specified final date. This is tentative and might be updated in future when ISO 8601 is officially updated.',\n",
       "    'type': 'string',\n",
       "    'oneOf': [{'type': 'string', 'format': 'date-time'},\n",
       "     {'type': 'string', 'format': 'uri'},\n",
       "     {'type': 'string'}]},\n",
       "   'spatialCoverage': {'description': 'The spatialCoverage of a CreativeWork indicates the place(s) which are the focus of the content. It is a subproperty of\\n      contentLocation intended primarily for more technical and detailed materials. For example with a Dataset, it indicates\\n      areas that the dataset describes: a dataset of New York weather would have spatialCoverage which was the place: the state of New York.',\n",
       "    'type': 'string'},\n",
       "   'schemaVersion': {'description': 'Indicates (by URL or string) a particular version of a schema used in some CreativeWork. For example, a document could declare a schemaVersion using an URL such as http://schema.org/version/2.0/ if precise indication of schema version was required by some application.',\n",
       "    'type': 'string'},\n",
       "   'sourceCode': {'//': 'the starting of new fields added to schema:Dataset',\n",
       "    'type': 'object',\n",
       "    'properties': {'codeRepository': {'type': 'string', 'format': 'uri'}}}},\n",
       "  'required': ['distribution',\n",
       "   'measurementTechnique',\n",
       "   'version',\n",
       "   'author',\n",
       "   'description',\n",
       "   'name',\n",
       "   'identifier']}}"
      ]
     },
     "execution_count": 3,
     "metadata": {},
     "output_type": "execute_result"
    }
   ],
   "source": [
    "se.validation"
   ]
  },
  {
   "cell_type": "markdown",
   "metadata": {},
   "source": [
    "## Validate against json schema"
   ]
  },
  {
   "cell_type": "code",
   "execution_count": 4,
   "metadata": {},
   "outputs": [
    {
     "ename": "ValidationError",
     "evalue": "'distribution' is a required property\n\nFailed validating 'required' in schema:\n    {'$schema': 'http://json-schema.org/draft-07/schema#',\n     'description': 'A schema describing Dataset in the Center for Viral '\n                    'Systems Biology',\n     'properties': {'author': {'description': 'The author of this content '\n                                              'or rating. Please note that '\n                                              'author is special in that '\n                                              'HTML 5 provides a special '\n                                              'mechanism for indicating '\n                                              'authorship via the rel tag. '\n                                              'That is equivalent to this '\n                                              'and may be used '\n                                              'interchangeably.',\n                               'type': 'string'},\n                    'dateModified': {'description': 'The date on which the '\n                                                    'CreativeWork was most '\n                                                    'recently modified or '\n                                                    \"when the item's entry \"\n                                                    'was modified within a '\n                                                    'DataFeed.',\n                                     'oneOf': [{'format': 'date-time',\n                                                'type': 'string'},\n                                               {'format': 'date',\n                                                'type': 'string'}]},\n                    'datePublished': {'description': 'Date of first '\n                                                     'broadcast/publication.',\n                                      'oneOf': [{'format': 'date-time',\n                                                 'type': 'string'},\n                                                {'format': 'date',\n                                                 'type': 'string'}]},\n                    'description': {'description': 'A description of the '\n                                                   'Cvisb Dataset',\n                                    'type': 'string'},\n                    'identifier': {'description': 'The identifier property '\n                                                  'represents any kind of '\n                                                  'identifier for any kind '\n                                                  'of <a class=\"localLink\" '\n                                                  'href=\"http://schema.org/Thing\">Thing</a>, '\n                                                  'such as ISBNs, GTIN '\n                                                  'codes, UUIDs etc. '\n                                                  'Schema.org provides '\n                                                  'dedicated properties '\n                                                  'for representing many '\n                                                  'of these, either as '\n                                                  'textual strings or as '\n                                                  'URL (URI) links. See <a '\n                                                  'href=\"/docs/datamodel.html#identifierBg\">background '\n                                                  'notes</a> for more '\n                                                  'details.',\n                                   'type': 'string'},\n                    'keywords': {'description': 'Keywords or tags used to '\n                                                'describe this content. '\n                                                'Multiple entries in a '\n                                                'keywords list are '\n                                                'typically delimited by '\n                                                'commas.',\n                                 'items': {'type': 'string'},\n                                 'type': 'array'},\n                    'name': {'//': 'the starting of inherented fields from '\n                                   'schema:Dataset',\n                             'description': 'The name of the Cvisb Dataset',\n                             'type': 'string'},\n                    'publisher': {'description': 'The publisher of the '\n                                                 'creative work.',\n                                  'type': 'string'},\n                    'sameAs': {'description': 'URL of a reference Web page '\n                                              'that unambiguously '\n                                              \"indicates the item's \"\n                                              'identity. E.g. the URL of '\n                                              \"the item's Wikipedia page, \"\n                                              'Wikidata entry, or official '\n                                              'website.',\n                               'type': 'string'},\n                    'schemaVersion': {'description': 'Indicates (by URL or '\n                                                     'string) a particular '\n                                                     'version of a schema '\n                                                     'used in some '\n                                                     'CreativeWork. For '\n                                                     'example, a document '\n                                                     'could declare a '\n                                                     'schemaVersion using '\n                                                     'an URL such as '\n                                                     'http://schema.org/version/2.0/ '\n                                                     'if precise '\n                                                     'indication of schema '\n                                                     'version was required '\n                                                     'by some application.',\n                                      'type': 'string'},\n                    'sourceCode': {'//': 'the starting of new fields added '\n                                         'to schema:Dataset',\n                                   'properties': {'codeRepository': {'format': 'uri',\n                                                                     'type': 'string'}},\n                                   'type': 'object'},\n                    'spatialCoverage': {'description': 'The '\n                                                       'spatialCoverage of '\n                                                       'a CreativeWork '\n                                                       'indicates the '\n                                                       'place(s) which are '\n                                                       'the focus of the '\n                                                       'content. It is a '\n                                                       'subproperty of\\n'\n                                                       '      '\n                                                       'contentLocation '\n                                                       'intended primarily '\n                                                       'for more technical '\n                                                       'and detailed '\n                                                       'materials. For '\n                                                       'example with a '\n                                                       'Dataset, it '\n                                                       'indicates\\n'\n                                                       '      areas that '\n                                                       'the dataset '\n                                                       'describes: a '\n                                                       'dataset of New '\n                                                       'York weather would '\n                                                       'have '\n                                                       'spatialCoverage '\n                                                       'which was the '\n                                                       'place: the state '\n                                                       'of New York.',\n                                        'type': 'string'},\n                    'temporalCoverage': {'description': 'The '\n                                                        'temporalCoverage '\n                                                        'of a CreativeWork '\n                                                        'indicates the '\n                                                        'period that the '\n                                                        'content applies '\n                                                        'to, i.e. that it '\n                                                        'describes, either '\n                                                        'as a DateTime or '\n                                                        'as a textual '\n                                                        'string indicating '\n                                                        'a time period in '\n                                                        '<a '\n                                                        'href=\"https://en.wikipedia.org/wiki/ISO_8601#Time_intervals\">ISO '\n                                                        '8601 time '\n                                                        'interval '\n                                                        'format</a>. In\\n'\n                                                        '      the case of '\n                                                        'a Dataset it will '\n                                                        'typically '\n                                                        'indicate the '\n                                                        'relevant time '\n                                                        'period in a '\n                                                        'precise notation '\n                                                        '(e.g. for a 2011 '\n                                                        'census dataset, '\n                                                        'the year 2011 '\n                                                        'would be written '\n                                                        '\"2011/2012\"). '\n                                                        'Other forms of '\n                                                        'content e.g. '\n                                                        'ScholarlyArticle, '\n                                                        'Book, TVSeries or '\n                                                        'TVEpisode may '\n                                                        'indicate their '\n                                                        'temporalCoverage '\n                                                        'in broader terms '\n                                                        '- textually or '\n                                                        'via well-known '\n                                                        'URL.\\n'\n                                                        '      Written '\n                                                        'works such as '\n                                                        'books may '\n                                                        'sometimes have '\n                                                        'precise temporal '\n                                                        'coverage too, '\n                                                        'e.g. a work set '\n                                                        'in 1939 - 1945 '\n                                                        'can be indicated '\n                                                        'in ISO 8601 '\n                                                        'interval format '\n                                                        'format via '\n                                                        '\"1939/1945\".<br/><br/>\\n'\n                                                        '\\n'\n                                                        'Open-ended date '\n                                                        'ranges can be '\n                                                        'written with \"..\" '\n                                                        'in place of the '\n                                                        'end date. For '\n                                                        'example, '\n                                                        '\"2015-11/..\" '\n                                                        'indicates a range '\n                                                        'beginning in '\n                                                        'November 2015 and '\n                                                        'with no specified '\n                                                        'final date. This '\n                                                        'is tentative and '\n                                                        'might be updated '\n                                                        'in future when '\n                                                        'ISO 8601 is '\n                                                        'officially '\n                                                        'updated.',\n                                         'oneOf': [{'format': 'date-time',\n                                                    'type': 'string'},\n                                                   {'format': 'uri',\n                                                    'type': 'string'},\n                                                   {'type': 'string'}],\n                                         'type': 'string'},\n                    'url': {'description': 'URL of the item.',\n                            'type': 'string'},\n                    'version': {'description': 'The version of the '\n                                               'CreativeWork embodied by a '\n                                               'specified resource.',\n                                'type': 'string'}},\n     'required': ['distribution',\n                  'measurementTechnique',\n                  'version',\n                  'author',\n                  'description',\n                  'name',\n                  'identifier'],\n     'title': 'Dataset',\n     'type': 'object'}\n\nOn instance:\n    {'aa': 'bb'}",
     "output_type": "error",
     "traceback": [
      "\u001b[0;31m---------------------------------------------------------------------------\u001b[0m",
      "\u001b[0;31mValidationError\u001b[0m                           Traceback (most recent call last)",
      "\u001b[0;32m<ipython-input-4-e605bc6ac44a>\u001b[0m in \u001b[0;36m<module>\u001b[0;34m\u001b[0m\n\u001b[1;32m      2\u001b[0m \u001b[0;31m# this is going to  fail the validation\u001b[0m\u001b[0;34m\u001b[0m\u001b[0;34m\u001b[0m\u001b[0;34m\u001b[0m\u001b[0m\n\u001b[1;32m      3\u001b[0m \u001b[0mscls\u001b[0m \u001b[0;34m=\u001b[0m \u001b[0mse\u001b[0m\u001b[0;34m.\u001b[0m\u001b[0mget_class\u001b[0m\u001b[0;34m(\u001b[0m\u001b[0;34m\"cvisb:Dataset\"\u001b[0m\u001b[0;34m)\u001b[0m\u001b[0;34m\u001b[0m\u001b[0;34m\u001b[0m\u001b[0m\n\u001b[0;32m----> 4\u001b[0;31m \u001b[0mscls\u001b[0m\u001b[0;34m.\u001b[0m\u001b[0mvalidate_against_schema\u001b[0m\u001b[0;34m(\u001b[0m\u001b[0msample1\u001b[0m\u001b[0;34m)\u001b[0m\u001b[0;34m\u001b[0m\u001b[0;34m\u001b[0m\u001b[0m\n\u001b[0m",
      "\u001b[0;32m~/Documents/work/cd2h/schema_explorer/ENV/lib/python3.7/site-packages/biothings_schema/__init__.py\u001b[0m in \u001b[0;36mvalidate_against_schema\u001b[0;34m(self, json_doc)\u001b[0m\n\u001b[1;32m    632\u001b[0m             \u001b[0;32mraise\u001b[0m \u001b[0mRuntimeError\u001b[0m\u001b[0;34m(\u001b[0m\u001b[0;34m\"$validation is not defined for {} field; thus the json document could not be validated\"\u001b[0m\u001b[0;34m.\u001b[0m\u001b[0mformat\u001b[0m\u001b[0;34m(\u001b[0m\u001b[0mself\u001b[0m\u001b[0;34m.\u001b[0m\u001b[0mname\u001b[0m\u001b[0;34m)\u001b[0m\u001b[0;34m)\u001b[0m\u001b[0;34m\u001b[0m\u001b[0;34m\u001b[0m\u001b[0m\n\u001b[1;32m    633\u001b[0m         \u001b[0;32melse\u001b[0m\u001b[0;34m:\u001b[0m\u001b[0;34m\u001b[0m\u001b[0;34m\u001b[0m\u001b[0m\n\u001b[0;32m--> 634\u001b[0;31m             \u001b[0mvalidate\u001b[0m\u001b[0;34m(\u001b[0m\u001b[0mjson_doc\u001b[0m\u001b[0;34m,\u001b[0m \u001b[0mself\u001b[0m\u001b[0;34m.\u001b[0m\u001b[0mse\u001b[0m\u001b[0;34m.\u001b[0m\u001b[0mvalidation\u001b[0m\u001b[0;34m[\u001b[0m\u001b[0mself\u001b[0m\u001b[0;34m.\u001b[0m\u001b[0muri\u001b[0m\u001b[0;34m]\u001b[0m\u001b[0;34m)\u001b[0m\u001b[0;34m\u001b[0m\u001b[0;34m\u001b[0m\u001b[0m\n\u001b[0m\u001b[1;32m    635\u001b[0m             \u001b[0mprint\u001b[0m\u001b[0;34m(\u001b[0m\u001b[0;34m'The JSON document is valid'\u001b[0m\u001b[0;34m)\u001b[0m\u001b[0;34m\u001b[0m\u001b[0;34m\u001b[0m\u001b[0m\n\u001b[1;32m    636\u001b[0m \u001b[0;34m\u001b[0m\u001b[0m\n",
      "\u001b[0;32m~/Documents/work/cd2h/schema_explorer/ENV/lib/python3.7/site-packages/jsonschema/validators.py\u001b[0m in \u001b[0;36mvalidate\u001b[0;34m(instance, schema, cls, *args, **kwargs)\u001b[0m\n\u001b[1;32m    897\u001b[0m     \u001b[0merror\u001b[0m \u001b[0;34m=\u001b[0m \u001b[0mexceptions\u001b[0m\u001b[0;34m.\u001b[0m\u001b[0mbest_match\u001b[0m\u001b[0;34m(\u001b[0m\u001b[0mvalidator\u001b[0m\u001b[0;34m.\u001b[0m\u001b[0miter_errors\u001b[0m\u001b[0;34m(\u001b[0m\u001b[0minstance\u001b[0m\u001b[0;34m)\u001b[0m\u001b[0;34m)\u001b[0m\u001b[0;34m\u001b[0m\u001b[0;34m\u001b[0m\u001b[0m\n\u001b[1;32m    898\u001b[0m     \u001b[0;32mif\u001b[0m \u001b[0merror\u001b[0m \u001b[0;32mis\u001b[0m \u001b[0;32mnot\u001b[0m \u001b[0;32mNone\u001b[0m\u001b[0;34m:\u001b[0m\u001b[0;34m\u001b[0m\u001b[0;34m\u001b[0m\u001b[0m\n\u001b[0;32m--> 899\u001b[0;31m         \u001b[0;32mraise\u001b[0m \u001b[0merror\u001b[0m\u001b[0;34m\u001b[0m\u001b[0;34m\u001b[0m\u001b[0m\n\u001b[0m\u001b[1;32m    900\u001b[0m \u001b[0;34m\u001b[0m\u001b[0m\n\u001b[1;32m    901\u001b[0m \u001b[0;34m\u001b[0m\u001b[0m\n",
      "\u001b[0;31mValidationError\u001b[0m: 'distribution' is a required property\n\nFailed validating 'required' in schema:\n    {'$schema': 'http://json-schema.org/draft-07/schema#',\n     'description': 'A schema describing Dataset in the Center for Viral '\n                    'Systems Biology',\n     'properties': {'author': {'description': 'The author of this content '\n                                              'or rating. Please note that '\n                                              'author is special in that '\n                                              'HTML 5 provides a special '\n                                              'mechanism for indicating '\n                                              'authorship via the rel tag. '\n                                              'That is equivalent to this '\n                                              'and may be used '\n                                              'interchangeably.',\n                               'type': 'string'},\n                    'dateModified': {'description': 'The date on which the '\n                                                    'CreativeWork was most '\n                                                    'recently modified or '\n                                                    \"when the item's entry \"\n                                                    'was modified within a '\n                                                    'DataFeed.',\n                                     'oneOf': [{'format': 'date-time',\n                                                'type': 'string'},\n                                               {'format': 'date',\n                                                'type': 'string'}]},\n                    'datePublished': {'description': 'Date of first '\n                                                     'broadcast/publication.',\n                                      'oneOf': [{'format': 'date-time',\n                                                 'type': 'string'},\n                                                {'format': 'date',\n                                                 'type': 'string'}]},\n                    'description': {'description': 'A description of the '\n                                                   'Cvisb Dataset',\n                                    'type': 'string'},\n                    'identifier': {'description': 'The identifier property '\n                                                  'represents any kind of '\n                                                  'identifier for any kind '\n                                                  'of <a class=\"localLink\" '\n                                                  'href=\"http://schema.org/Thing\">Thing</a>, '\n                                                  'such as ISBNs, GTIN '\n                                                  'codes, UUIDs etc. '\n                                                  'Schema.org provides '\n                                                  'dedicated properties '\n                                                  'for representing many '\n                                                  'of these, either as '\n                                                  'textual strings or as '\n                                                  'URL (URI) links. See <a '\n                                                  'href=\"/docs/datamodel.html#identifierBg\">background '\n                                                  'notes</a> for more '\n                                                  'details.',\n                                   'type': 'string'},\n                    'keywords': {'description': 'Keywords or tags used to '\n                                                'describe this content. '\n                                                'Multiple entries in a '\n                                                'keywords list are '\n                                                'typically delimited by '\n                                                'commas.',\n                                 'items': {'type': 'string'},\n                                 'type': 'array'},\n                    'name': {'//': 'the starting of inherented fields from '\n                                   'schema:Dataset',\n                             'description': 'The name of the Cvisb Dataset',\n                             'type': 'string'},\n                    'publisher': {'description': 'The publisher of the '\n                                                 'creative work.',\n                                  'type': 'string'},\n                    'sameAs': {'description': 'URL of a reference Web page '\n                                              'that unambiguously '\n                                              \"indicates the item's \"\n                                              'identity. E.g. the URL of '\n                                              \"the item's Wikipedia page, \"\n                                              'Wikidata entry, or official '\n                                              'website.',\n                               'type': 'string'},\n                    'schemaVersion': {'description': 'Indicates (by URL or '\n                                                     'string) a particular '\n                                                     'version of a schema '\n                                                     'used in some '\n                                                     'CreativeWork. For '\n                                                     'example, a document '\n                                                     'could declare a '\n                                                     'schemaVersion using '\n                                                     'an URL such as '\n                                                     'http://schema.org/version/2.0/ '\n                                                     'if precise '\n                                                     'indication of schema '\n                                                     'version was required '\n                                                     'by some application.',\n                                      'type': 'string'},\n                    'sourceCode': {'//': 'the starting of new fields added '\n                                         'to schema:Dataset',\n                                   'properties': {'codeRepository': {'format': 'uri',\n                                                                     'type': 'string'}},\n                                   'type': 'object'},\n                    'spatialCoverage': {'description': 'The '\n                                                       'spatialCoverage of '\n                                                       'a CreativeWork '\n                                                       'indicates the '\n                                                       'place(s) which are '\n                                                       'the focus of the '\n                                                       'content. It is a '\n                                                       'subproperty of\\n'\n                                                       '      '\n                                                       'contentLocation '\n                                                       'intended primarily '\n                                                       'for more technical '\n                                                       'and detailed '\n                                                       'materials. For '\n                                                       'example with a '\n                                                       'Dataset, it '\n                                                       'indicates\\n'\n                                                       '      areas that '\n                                                       'the dataset '\n                                                       'describes: a '\n                                                       'dataset of New '\n                                                       'York weather would '\n                                                       'have '\n                                                       'spatialCoverage '\n                                                       'which was the '\n                                                       'place: the state '\n                                                       'of New York.',\n                                        'type': 'string'},\n                    'temporalCoverage': {'description': 'The '\n                                                        'temporalCoverage '\n                                                        'of a CreativeWork '\n                                                        'indicates the '\n                                                        'period that the '\n                                                        'content applies '\n                                                        'to, i.e. that it '\n                                                        'describes, either '\n                                                        'as a DateTime or '\n                                                        'as a textual '\n                                                        'string indicating '\n                                                        'a time period in '\n                                                        '<a '\n                                                        'href=\"https://en.wikipedia.org/wiki/ISO_8601#Time_intervals\">ISO '\n                                                        '8601 time '\n                                                        'interval '\n                                                        'format</a>. In\\n'\n                                                        '      the case of '\n                                                        'a Dataset it will '\n                                                        'typically '\n                                                        'indicate the '\n                                                        'relevant time '\n                                                        'period in a '\n                                                        'precise notation '\n                                                        '(e.g. for a 2011 '\n                                                        'census dataset, '\n                                                        'the year 2011 '\n                                                        'would be written '\n                                                        '\"2011/2012\"). '\n                                                        'Other forms of '\n                                                        'content e.g. '\n                                                        'ScholarlyArticle, '\n                                                        'Book, TVSeries or '\n                                                        'TVEpisode may '\n                                                        'indicate their '\n                                                        'temporalCoverage '\n                                                        'in broader terms '\n                                                        '- textually or '\n                                                        'via well-known '\n                                                        'URL.\\n'\n                                                        '      Written '\n                                                        'works such as '\n                                                        'books may '\n                                                        'sometimes have '\n                                                        'precise temporal '\n                                                        'coverage too, '\n                                                        'e.g. a work set '\n                                                        'in 1939 - 1945 '\n                                                        'can be indicated '\n                                                        'in ISO 8601 '\n                                                        'interval format '\n                                                        'format via '\n                                                        '\"1939/1945\".<br/><br/>\\n'\n                                                        '\\n'\n                                                        'Open-ended date '\n                                                        'ranges can be '\n                                                        'written with \"..\" '\n                                                        'in place of the '\n                                                        'end date. For '\n                                                        'example, '\n                                                        '\"2015-11/..\" '\n                                                        'indicates a range '\n                                                        'beginning in '\n                                                        'November 2015 and '\n                                                        'with no specified '\n                                                        'final date. This '\n                                                        'is tentative and '\n                                                        'might be updated '\n                                                        'in future when '\n                                                        'ISO 8601 is '\n                                                        'officially '\n                                                        'updated.',\n                                         'oneOf': [{'format': 'date-time',\n                                                    'type': 'string'},\n                                                   {'format': 'uri',\n                                                    'type': 'string'},\n                                                   {'type': 'string'}],\n                                         'type': 'string'},\n                    'url': {'description': 'URL of the item.',\n                            'type': 'string'},\n                    'version': {'description': 'The version of the '\n                                               'CreativeWork embodied by a '\n                                               'specified resource.',\n                                'type': 'string'}},\n     'required': ['distribution',\n                  'measurementTechnique',\n                  'version',\n                  'author',\n                  'description',\n                  'name',\n                  'identifier'],\n     'title': 'Dataset',\n     'type': 'object'}\n\nOn instance:\n    {'aa': 'bb'}"
     ]
    }
   ],
   "source": [
    "sample1 = {\"aa\": \"bb\"}\n",
    "# this is going to  fail the validation\n",
    "scls = se.get_class(\"cvisb:Dataset\")\n",
    "scls.validate_against_schema(sample1)"
   ]
  },
  {
   "cell_type": "code",
   "execution_count": 5,
   "metadata": {},
   "outputs": [
    {
     "name": "stdout",
     "output_type": "stream",
     "text": [
      "The JSON document is valid\n"
     ]
    }
   ],
   "source": [
    "# this is a valid example\n",
    "sample2 = {'name': \"aa\",\n",
    "   'description': \"bb\",\n",
    "   'url': \"http://ddd.com\",\n",
    "   'author': \"kevin\",\n",
    "   'publisher': \"kevin\",\n",
    "   'version': \"1\",\n",
    "    \"distribution\": \"33\",\n",
    "    \"measurementTechnique\":  \"11\",\n",
    "   'identifier': \"kk\"}\n",
    "\n",
    "scls.validate_against_schema(sample2)"
   ]
  },
  {
   "cell_type": "code",
   "execution_count": 6,
   "metadata": {},
   "outputs": [
    {
     "name": "stderr",
     "output_type": "stream",
     "text": [
      "/Users/kevinxin/Documents/work/cd2h/schema_explorer/ENV/lib/python3.7/site-packages/biothings_schema/__init__.py:349: UserWarning: Found more than 1 classes defined within schema using label Dataset\n",
      "  warnings.warn(\"Found more than 1 classes defined within schema using label {}\".format(class_name))\n"
     ]
    }
   ],
   "source": [
    "scls = se.get_class(\"Dataset\")"
   ]
  },
  {
   "cell_type": "code",
   "execution_count": 7,
   "metadata": {},
   "outputs": [
    {
     "data": {
      "text/plain": [
       "[<SchemaClass \"cvisb:Dataset\">, <SchemaClass \"schema:Dataset\">]"
      ]
     },
     "execution_count": 7,
     "metadata": {},
     "output_type": "execute_result"
    }
   ],
   "source": [
    "scls"
   ]
  },
  {
   "cell_type": "code",
   "execution_count": 8,
   "metadata": {},
   "outputs": [],
   "source": [
    "scls = scls[0]"
   ]
  },
  {
   "cell_type": "code",
   "execution_count": 9,
   "metadata": {},
   "outputs": [
    {
     "name": "stdout",
     "output_type": "stream",
     "text": [
      "The JSON document is valid\n"
     ]
    }
   ],
   "source": [
    "scls.validate_against_schema(sample2)"
   ]
  },
  {
   "cell_type": "code",
   "execution_count": 10,
   "metadata": {},
   "outputs": [],
   "source": [
    "scls = se.get_class(\"Dataset\")[1]"
   ]
  },
  {
   "cell_type": "code",
   "execution_count": 11,
   "metadata": {},
   "outputs": [
    {
     "ename": "RuntimeError",
     "evalue": "$validation is not defined for schema:Dataset field; thus the json document could not be validated",
     "output_type": "error",
     "traceback": [
      "\u001b[0;31m---------------------------------------------------------------------------\u001b[0m",
      "\u001b[0;31mRuntimeError\u001b[0m                              Traceback (most recent call last)",
      "\u001b[0;32m<ipython-input-11-82acbf4eebe2>\u001b[0m in \u001b[0;36m<module>\u001b[0;34m\u001b[0m\n\u001b[0;32m----> 1\u001b[0;31m \u001b[0mscls\u001b[0m\u001b[0;34m.\u001b[0m\u001b[0mvalidate_against_schema\u001b[0m\u001b[0;34m(\u001b[0m\u001b[0msample2\u001b[0m\u001b[0;34m)\u001b[0m\u001b[0;34m\u001b[0m\u001b[0;34m\u001b[0m\u001b[0m\n\u001b[0m",
      "\u001b[0;32m~/Documents/work/cd2h/schema_explorer/ENV/lib/python3.7/site-packages/biothings_schema/__init__.py\u001b[0m in \u001b[0;36mvalidate_against_schema\u001b[0;34m(self, json_doc)\u001b[0m\n\u001b[1;32m    630\u001b[0m         \"\"\"\n\u001b[1;32m    631\u001b[0m         \u001b[0;32mif\u001b[0m \u001b[0;32mnot\u001b[0m \u001b[0mself\u001b[0m\u001b[0;34m.\u001b[0m\u001b[0muri\u001b[0m \u001b[0;32min\u001b[0m \u001b[0mself\u001b[0m\u001b[0;34m.\u001b[0m\u001b[0mse\u001b[0m\u001b[0;34m.\u001b[0m\u001b[0mvalidation\u001b[0m\u001b[0;34m:\u001b[0m\u001b[0;34m\u001b[0m\u001b[0;34m\u001b[0m\u001b[0m\n\u001b[0;32m--> 632\u001b[0;31m             \u001b[0;32mraise\u001b[0m \u001b[0mRuntimeError\u001b[0m\u001b[0;34m(\u001b[0m\u001b[0;34m\"$validation is not defined for {} field; thus the json document could not be validated\"\u001b[0m\u001b[0;34m.\u001b[0m\u001b[0mformat\u001b[0m\u001b[0;34m(\u001b[0m\u001b[0mself\u001b[0m\u001b[0;34m.\u001b[0m\u001b[0mname\u001b[0m\u001b[0;34m)\u001b[0m\u001b[0;34m)\u001b[0m\u001b[0;34m\u001b[0m\u001b[0;34m\u001b[0m\u001b[0m\n\u001b[0m\u001b[1;32m    633\u001b[0m         \u001b[0;32melse\u001b[0m\u001b[0;34m:\u001b[0m\u001b[0;34m\u001b[0m\u001b[0;34m\u001b[0m\u001b[0m\n\u001b[1;32m    634\u001b[0m             \u001b[0mvalidate\u001b[0m\u001b[0;34m(\u001b[0m\u001b[0mjson_doc\u001b[0m\u001b[0;34m,\u001b[0m \u001b[0mself\u001b[0m\u001b[0;34m.\u001b[0m\u001b[0mse\u001b[0m\u001b[0;34m.\u001b[0m\u001b[0mvalidation\u001b[0m\u001b[0;34m[\u001b[0m\u001b[0mself\u001b[0m\u001b[0;34m.\u001b[0m\u001b[0muri\u001b[0m\u001b[0;34m]\u001b[0m\u001b[0;34m)\u001b[0m\u001b[0;34m\u001b[0m\u001b[0;34m\u001b[0m\u001b[0m\n",
      "\u001b[0;31mRuntimeError\u001b[0m: $validation is not defined for schema:Dataset field; thus the json document could not be validated"
     ]
    }
   ],
   "source": [
    "scls.validate_against_schema(sample2)"
   ]
  }
 ],
 "metadata": {
  "kernelspec": {
   "display_name": "Python 3",
   "language": "python",
   "name": "python3"
  },
  "language_info": {
   "codemirror_mode": {
    "name": "ipython",
    "version": 3
   },
   "file_extension": ".py",
   "mimetype": "text/x-python",
   "name": "python",
   "nbconvert_exporter": "python",
   "pygments_lexer": "ipython3",
   "version": "3.7.3"
  }
 },
 "nbformat": 4,
 "nbformat_minor": 2
}
